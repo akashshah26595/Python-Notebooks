{
 "cells": [
  {
   "cell_type": "markdown",
   "metadata": {},
   "source": [
    "### Definition\n",
    "\n",
    "Decorators provide a simple syntax for calling higher order functions.\n",
    "\n",
    "Decorator is a function that takes another function and extends the behavior of the latter, without explicitly modifying it."
   ]
  },
  {
   "cell_type": "markdown",
   "metadata": {},
   "source": [
    "### Functions\n",
    "\n",
    "Return a value based on given arguments.\n",
    "\n",
    "Functions are **first class objects** i.e they can be passed around and used as arguments, like any other value(int,float etc.)"
   ]
  },
  {
   "cell_type": "code",
   "execution_count": 3,
   "metadata": {},
   "outputs": [
    {
     "name": "stdout",
     "output_type": "stream",
     "text": [
      "<function foo at 0x7f371b537ed8>\n",
      "4\n",
      "<type 'function'>\n",
      "None\n"
     ]
    }
   ],
   "source": [
    "def foo(bar):\n",
    "    return bar + 2\n",
    "\n",
    "print foo\n",
    "print foo(2)\n",
    "print type(foo)"
   ]
  },
  {
   "cell_type": "code",
   "execution_count": 4,
   "metadata": {},
   "outputs": [
    {
     "name": "stdout",
     "output_type": "stream",
     "text": [
      "5\n"
     ]
    }
   ],
   "source": [
    "def call_foo_with_args(foo, arg):\n",
    "    return foo(arg)\n",
    "print call_foo_with_args(foo, 3)"
   ]
  },
  {
   "cell_type": "markdown",
   "metadata": {},
   "source": [
    "### Nested Functions"
   ]
  },
  {
   "cell_type": "code",
   "execution_count": 17,
   "metadata": {
    "collapsed": true
   },
   "outputs": [],
   "source": [
    "def parent():\n",
    "    \n",
    "    print \"Printing from parent method()\"\n",
    "    \n",
    "    def first_child():\n",
    "        return \"Printing from first child\"\n",
    "        \n",
    "    def second_child():\n",
    "        return \"Printing from second child\"\n",
    "    \n",
    "    print first_child()\n",
    "    print second_child()"
   ]
  },
  {
   "cell_type": "code",
   "execution_count": 18,
   "metadata": {},
   "outputs": [
    {
     "name": "stdout",
     "output_type": "stream",
     "text": [
      "Printing from parent method()\n",
      "Printing from first child\n",
      "Printing from second child\n"
     ]
    }
   ],
   "source": [
    "parent()"
   ]
  },
  {
   "cell_type": "code",
   "execution_count": 14,
   "metadata": {},
   "outputs": [],
   "source": [
    "# first_child()\n",
    " \n",
    "# Throws error because scope of first_child \n",
    "# method is limited to parent() method.\n",
    "# Hence cannot be called from outside the method."
   ]
  },
  {
   "cell_type": "code",
   "execution_count": null,
   "metadata": {
    "collapsed": true
   },
   "outputs": [],
   "source": []
  },
  {
   "cell_type": "markdown",
   "metadata": {},
   "source": [
    "### Returning functions"
   ]
  },
  {
   "cell_type": "code",
   "execution_count": 20,
   "metadata": {},
   "outputs": [],
   "source": [
    "def parent(num):\n",
    "    \n",
    "    print \"Printing from parent method()\"\n",
    "    \n",
    "    def first_child():\n",
    "        return \"Printing from first child\"\n",
    "        \n",
    "    def second_child():\n",
    "        return \"Printing from second child\"\n",
    "    \n",
    "    try:\n",
    "        assert num==10\n",
    "        return first_child\n",
    "    \n",
    "    except AssertionError:\n",
    "        return second_child"
   ]
  },
  {
   "cell_type": "code",
   "execution_count": 23,
   "metadata": {},
   "outputs": [
    {
     "name": "stdout",
     "output_type": "stream",
     "text": [
      "Printing from parent method()\n",
      "Printing from parent method()\n",
      "<function first_child at 0x7f37147f4c80>\n",
      "<function second_child at 0x7f37147f4e60>\n"
     ]
    }
   ],
   "source": [
    "foo = parent(10)\n",
    "bar = parent(20)\n",
    "print foo\n",
    "print bar"
   ]
  },
  {
   "cell_type": "code",
   "execution_count": 22,
   "metadata": {},
   "outputs": [
    {
     "data": {
      "text/plain": [
       "'Printing from first child'"
      ]
     },
     "execution_count": 22,
     "metadata": {},
     "output_type": "execute_result"
    }
   ],
   "source": [
    "foo()"
   ]
  },
  {
   "cell_type": "code",
   "execution_count": 24,
   "metadata": {},
   "outputs": [
    {
     "data": {
      "text/plain": [
       "'Printing from second child'"
      ]
     },
     "execution_count": 24,
     "metadata": {},
     "output_type": "execute_result"
    }
   ],
   "source": [
    "bar()"
   ]
  },
  {
   "cell_type": "markdown",
   "metadata": {},
   "source": [
    "### Example 1:"
   ]
  },
  {
   "cell_type": "code",
   "execution_count": 28,
   "metadata": {
    "collapsed": true
   },
   "outputs": [],
   "source": [
    "def myFunc(another_func):\n",
    "    def wrapper():\n",
    "        print \"Before calling the function\"\n",
    "\n",
    "        another_func()\n",
    "\n",
    "        print \"After calling the function\"\n",
    "    return wrapper"
   ]
  },
  {
   "cell_type": "code",
   "execution_count": 29,
   "metadata": {
    "collapsed": true
   },
   "outputs": [],
   "source": [
    "def say_cheese():\n",
    "    print \"Say Cheeese!!\""
   ]
  },
  {
   "cell_type": "code",
   "execution_count": 33,
   "metadata": {},
   "outputs": [
    {
     "name": "stdout",
     "output_type": "stream",
     "text": [
      "Before calling the function\n",
      "Say Cheeese!!\n",
      "After calling the function\n"
     ]
    }
   ],
   "source": [
    "some_func = myFunc(say_cheese)\n",
    "some_func()"
   ]
  },
  {
   "cell_type": "code",
   "execution_count": 39,
   "metadata": {
    "collapsed": true
   },
   "outputs": [],
   "source": [
    "from decorator1 import my_decorator"
   ]
  },
  {
   "cell_type": "code",
   "execution_count": 40,
   "metadata": {},
   "outputs": [
    {
     "name": "stdout",
     "output_type": "stream",
     "text": [
      "Inside my_decorator function\n",
      "Yes\n",
      "Say Cheese\n",
      "After calling the function\n"
     ]
    }
   ],
   "source": [
    "@my_decorator\n",
    "def some_func():\n",
    "    print \"Say Cheese\"\n",
    "\n",
    "some_func()"
   ]
  },
  {
   "cell_type": "markdown",
   "metadata": {},
   "source": [
    "** Note : **\n",
    "@my_decorator is just an easier way to say\n",
    "\n",
    "**just_some_func = my_decorator(some_func)**"
   ]
  },
  {
   "cell_type": "markdown",
   "metadata": {},
   "source": [
    "### Tracking function execution time in python"
   ]
  },
  {
   "cell_type": "code",
   "execution_count": 41,
   "metadata": {
    "collapsed": true
   },
   "outputs": [],
   "source": [
    "import time"
   ]
  },
  {
   "cell_type": "code",
   "execution_count": 67,
   "metadata": {
    "collapsed": true
   },
   "outputs": [],
   "source": [
    "def timing_function(any_func):\n",
    "    \n",
    "    def wrapper(*args, **kwargs):\n",
    "        start = time.time()\n",
    "        any_func(*args, **kwargs)\n",
    "        end = time.time()\n",
    "        print \"Start time: \" + str(start)\n",
    "        print \"End Time: \" + str (end)\n",
    "        return \"Diff in time: \" + str(end-start)\n",
    "    return wrapper"
   ]
  },
  {
   "cell_type": "code",
   "execution_count": 45,
   "metadata": {},
   "outputs": [
    {
     "name": "stdout",
     "output_type": "stream",
     "text": [
      "Start time: 1504963595.83\n",
      "End Time: 1504963595.93\n"
     ]
    },
    {
     "data": {
      "text/plain": [
       "'Diff in time: 0.093132019043'"
      ]
     },
     "execution_count": 45,
     "metadata": {},
     "output_type": "execute_result"
    }
   ],
   "source": [
    "num_list = []\n",
    "@timing_function\n",
    "def loop():\n",
    "    for i in range(1000000):\n",
    "        num_list.append(i)\n",
    "    \n",
    "loop()"
   ]
  },
  {
   "cell_type": "code",
   "execution_count": 46,
   "metadata": {
    "collapsed": true
   },
   "outputs": [],
   "source": [
    "@timing_function\n",
    "def func_tools():\n",
    "    return reduce(lambda x,y : x**y, [1,2,3,4,5])"
   ]
  },
  {
   "cell_type": "code",
   "execution_count": 48,
   "metadata": {},
   "outputs": [
    {
     "name": "stdout",
     "output_type": "stream",
     "text": [
      "Start time: 1504963755.08\n",
      "End Time: 1504963755.08\n"
     ]
    }
   ],
   "source": [
    "some_func = func_tools()"
   ]
  },
  {
   "cell_type": "code",
   "execution_count": 49,
   "metadata": {},
   "outputs": [
    {
     "data": {
      "text/plain": [
       "'Diff in time: 4.05311584473e-06'"
      ]
     },
     "execution_count": 49,
     "metadata": {},
     "output_type": "execute_result"
    }
   ],
   "source": [
    "some_func"
   ]
  },
  {
   "cell_type": "markdown",
   "metadata": {},
   "source": [
    "### Using Same Decorator for Multiple Functions"
   ]
  },
  {
   "cell_type": "code",
   "execution_count": 50,
   "metadata": {
    "collapsed": true
   },
   "outputs": [],
   "source": [
    "def decorator_func(original_function):\n",
    "    \n",
    "    def wrapper(*args, **kwargs):\n",
    "        return original_function(*args, **kwargs)\n",
    "    return wrapper"
   ]
  },
  {
   "cell_type": "code",
   "execution_count": 53,
   "metadata": {},
   "outputs": [
    {
     "name": "stdout",
     "output_type": "stream",
     "text": [
      "<function wrapper at 0x7f371481c410>\n",
      "Hello from display\n"
     ]
    }
   ],
   "source": [
    "@decorator_func\n",
    "def display():\n",
    "    print \"Hello from display\"\n",
    "\n",
    "print display\n",
    "display()"
   ]
  },
  {
   "cell_type": "code",
   "execution_count": 55,
   "metadata": {},
   "outputs": [
    {
     "name": "stdout",
     "output_type": "stream",
     "text": [
      "<function wrapper at 0x7f371481c6e0>\n",
      "My name is Rooney and my age is 30\n"
     ]
    }
   ],
   "source": [
    "@decorator_func\n",
    "def display_info(name,age):\n",
    "    print \"My name is {0} and my age is {1}\" .format(name,age)\n",
    "\n",
    "print display_info\n",
    "display_info('Rooney',30)"
   ]
  },
  {
   "cell_type": "markdown",
   "metadata": {},
   "source": [
    "### Using Classes to Decorate Functions"
   ]
  },
  {
   "cell_type": "code",
   "execution_count": 81,
   "metadata": {},
   "outputs": [
    {
     "name": "stdout",
     "output_type": "stream",
     "text": [
      "In Call Method\n",
      "hello\n",
      "<__main__.decorator_class object at 0x7f3714726250>\n",
      "In Call Method\n",
      "My name is Rooney and my age is 30\n"
     ]
    }
   ],
   "source": [
    "class decorator_class(object):\n",
    "    def __init__(self, original_func):\n",
    "        self.original_func = original_func\n",
    "        \n",
    "    def __call__(self, *args, **kwargs):\n",
    "        print \"In Call Method\"\n",
    "        return self.original_func(*args, **kwargs)\n",
    "@decorator_class\n",
    "def display():\n",
    "    print \"hello\"\n",
    "display()\n",
    "\n",
    "@decorator_class\n",
    "def display_info(name,age):\n",
    "    print \"My name is {0} and my age is {1}\" .format(name,age)\n",
    "\n",
    "print display_info\n",
    "display_info('Rooney',30)"
   ]
  },
  {
   "cell_type": "code",
   "execution_count": null,
   "metadata": {
    "collapsed": true
   },
   "outputs": [],
   "source": []
  },
  {
   "cell_type": "markdown",
   "metadata": {},
   "source": [
    "### Decorators for Logs"
   ]
  },
  {
   "cell_type": "code",
   "execution_count": 58,
   "metadata": {
    "collapsed": true
   },
   "outputs": [],
   "source": [
    "import logging\n",
    "def my_logger(some_func):\n",
    "    \n",
    "    logging.basicConfig(filename = '{}.log'.format(some_func.__name__), level = logging.INFO)\n",
    "    def wrapper(*args, **kwargs):\n",
    "        logging.info('Ran with args: {} and kwargs: {}'.format(args,kwargs))\n",
    "        return some_func(*args,**kwargs)\n",
    "    return wrapper"
   ]
  },
  {
   "cell_type": "code",
   "execution_count": 59,
   "metadata": {},
   "outputs": [
    {
     "name": "stdout",
     "output_type": "stream",
     "text": [
      "hello\n"
     ]
    }
   ],
   "source": [
    "@my_logger\n",
    "def display():\n",
    "    print \"hello\"\n",
    "    \n",
    "display()"
   ]
  },
  {
   "cell_type": "code",
   "execution_count": 61,
   "metadata": {},
   "outputs": [
    {
     "name": "stdout",
     "output_type": "stream",
     "text": [
      "Name: Rooney and Age: 30\n"
     ]
    }
   ],
   "source": [
    "@my_logger\n",
    "def display_info(name,age):\n",
    "    print \"Name: {0} and Age: {1}\".format(name,age)\n",
    "    \n",
    "display_info('Rooney',30)"
   ]
  },
  {
   "cell_type": "code",
   "execution_count": null,
   "metadata": {
    "collapsed": true
   },
   "outputs": [],
   "source": []
  },
  {
   "cell_type": "markdown",
   "metadata": {},
   "source": [
    "## Chaining Multiple Decorators"
   ]
  },
  {
   "cell_type": "code",
   "execution_count": 73,
   "metadata": {},
   "outputs": [
    {
     "name": "stdout",
     "output_type": "stream",
     "text": [
      "wrapper\n",
      "manutd\n",
      "Start time: 1504969181.3\n",
      "End Time: 1504969181.3\n"
     ]
    },
    {
     "data": {
      "text/plain": [
       "'Diff in time: 0.000271081924438'"
      ]
     },
     "execution_count": 73,
     "metadata": {},
     "output_type": "execute_result"
    }
   ],
   "source": [
    "@timing_function\n",
    "@my_logger\n",
    "\n",
    "def display_info(name):\n",
    "    print name\n",
    "    \n",
    "#some_func = timing_function(my_logger(display_info))\n",
    "print(display_info.__name__)\n",
    "timer('manutd')"
   ]
  },
  {
   "cell_type": "markdown",
   "metadata": {},
   "source": [
    "The above chained decorator call is equivalent to\n",
    "\n",
    "** some_func = timing_function(my_logger(display_info)) **\n",
    "\n",
    "** Important ** : \n",
    "\n",
    "- We want to apply display_info to both the decorators.\n",
    "- But what's happening is first my_logger(display_info) get executed, which returns            wrapper function.\n",
    "- This **WRAPPER** function is decorated with timing function, instead of display_info function.\n",
    "- To fix this issue, we use wraps function from functools module."
   ]
  },
  {
   "cell_type": "markdown",
   "metadata": {},
   "source": [
    "##### Fix "
   ]
  },
  {
   "cell_type": "code",
   "execution_count": 74,
   "metadata": {
    "collapsed": true
   },
   "outputs": [],
   "source": [
    "from functools import wraps"
   ]
  },
  {
   "cell_type": "code",
   "execution_count": 75,
   "metadata": {
    "collapsed": true
   },
   "outputs": [],
   "source": [
    "def timing_function(any_func):\n",
    "    @wraps(any_func)\n",
    "    def wrapper(*args, **kwargs):\n",
    "        start = time.time()\n",
    "        any_func(*args, **kwargs)\n",
    "        end = time.time()\n",
    "        print \"Start time: \" + str(start)\n",
    "        print \"End Time: \" + str (end)\n",
    "        return \"Diff in time: \" + str(end-start)\n",
    "    return wrapper"
   ]
  },
  {
   "cell_type": "code",
   "execution_count": 77,
   "metadata": {},
   "outputs": [],
   "source": [
    "import logging\n",
    "def my_logger(some_func):\n",
    "    logging.basicConfig(filename = '{}.log'.format(some_func.__name__), level = logging.INFO)\n",
    "\n",
    "    @wraps(some_func)\n",
    "    def wrapper(*args, **kwargs):\n",
    "        logging.info('Ran with args: {} and kwargs: {}'.format(args,kwargs))\n",
    "        return some_func(*args,**kwargs)\n",
    "    return wrapper"
   ]
  },
  {
   "cell_type": "code",
   "execution_count": 80,
   "metadata": {},
   "outputs": [
    {
     "name": "stdout",
     "output_type": "stream",
     "text": [
      "Name: Marcus Rashford, Age: 19 \n",
      "<function display_info at 0x7f371481cf50>\n"
     ]
    }
   ],
   "source": [
    "# @timing_function\n",
    "# @my_logger\n",
    "\n",
    "def display_info(name,age):\n",
    "    print \"Name: {0}, Age: {1} \".format(name, age)\n",
    "    \n",
    "#some_func = timing_function(my_logger(display_info))\n",
    "display_info('Marcus Rashford', 19)\n",
    "\n",
    "some_func = my_logger(display_info)\n",
    "print timing_function(some_func)"
   ]
  },
  {
   "cell_type": "code",
   "execution_count": null,
   "metadata": {
    "collapsed": true
   },
   "outputs": [],
   "source": []
  },
  {
   "cell_type": "code",
   "execution_count": null,
   "metadata": {
    "collapsed": true
   },
   "outputs": [],
   "source": []
  },
  {
   "cell_type": "code",
   "execution_count": null,
   "metadata": {
    "collapsed": true
   },
   "outputs": [],
   "source": []
  },
  {
   "cell_type": "code",
   "execution_count": null,
   "metadata": {
    "collapsed": true
   },
   "outputs": [],
   "source": []
  },
  {
   "cell_type": "code",
   "execution_count": null,
   "metadata": {
    "collapsed": true
   },
   "outputs": [],
   "source": []
  },
  {
   "cell_type": "code",
   "execution_count": null,
   "metadata": {
    "collapsed": true
   },
   "outputs": [],
   "source": []
  },
  {
   "cell_type": "code",
   "execution_count": null,
   "metadata": {
    "collapsed": true
   },
   "outputs": [],
   "source": []
  }
 ],
 "metadata": {
  "kernelspec": {
   "display_name": "Python 2",
   "language": "python",
   "name": "python2"
  },
  "language_info": {
   "codemirror_mode": {
    "name": "ipython",
    "version": 2
   },
   "file_extension": ".py",
   "mimetype": "text/x-python",
   "name": "python",
   "nbconvert_exporter": "python",
   "pygments_lexer": "ipython2",
   "version": "2.7.13"
  }
 },
 "nbformat": 4,
 "nbformat_minor": 2
}
