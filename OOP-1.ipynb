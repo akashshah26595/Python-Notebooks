{
 "cells": [
  {
   "cell_type": "markdown",
   "metadata": {},
   "source": [
    "### Topics to be covered: \n",
    "\n",
    "- **Self** variable\n",
    "- Ways of calling a method\n",
    "- Class Variables\n",
    "- Class Methods\n",
    "- Static Methods\n",
    "- Inheritance\n",
    "- Magic Methods\n",
    "- Encapsulation\n",
    "- Data Abstraction\n",
    "- Polymorphism"
   ]
  },
  {
   "cell_type": "code",
   "execution_count": 2,
   "metadata": {
    "collapsed": true
   },
   "outputs": [],
   "source": [
    "class Employee:\n",
    "    def __init__(self, first, last, pay):\n",
    "        self.first = first\n",
    "        self.last = last\n",
    "        self.pay = pay\n",
    "        self.email = first + '.' + last + '@company.com'\n",
    "        \n",
    "    def full_name(self):\n",
    "      return \"Name: {0} {1}, Email: {2} and Pay: {3}\".format(self.first, self.last, self.email, self.pay)  "
   ]
  },
  {
   "cell_type": "code",
   "execution_count": 3,
   "metadata": {},
   "outputs": [
    {
     "name": "stdout",
     "output_type": "stream",
     "text": [
      "Name: sam johnson, Email: sam.johnson@company.com and Pay: 50000\n"
     ]
    }
   ],
   "source": [
    "emp_1 = Employee('sam','johnson',50000)\n",
    "print emp_1.full_name()"
   ]
  },
  {
   "cell_type": "markdown",
   "metadata": {},
   "source": [
    "### Concept of *self* in python"
   ]
  },
  {
   "cell_type": "markdown",
   "metadata": {},
   "source": [
    "``` self is not a keyword in python, it is the object itself. It is used to call a method within a class or access an instance variable. ```\n",
    "\n",
    "``` It is similar to this.attribute_name = attribute_name in java, where this represents the current object.```"
   ]
  },
  {
   "cell_type": "markdown",
   "metadata": {},
   "source": [
    "### Two ways of calling a method"
   ]
  },
  {
   "cell_type": "code",
   "execution_count": 4,
   "metadata": {},
   "outputs": [
    {
     "name": "stdout",
     "output_type": "stream",
     "text": [
      "Name: sam johnson, Email: sam.johnson@company.com and Pay: 50000\n",
      "Name: sam johnson, Email: sam.johnson@company.com and Pay: 50000\n"
     ]
    }
   ],
   "source": [
    "print emp_1.full_name()\n",
    "print Employee.full_name(emp_1)"
   ]
  },
  {
   "cell_type": "markdown",
   "metadata": {},
   "source": [
    "#### Note: \n",
    "\n",
    "Internally, python converts **emp_1.full_name()** method call into **Employee.full_name(emp_1)** form.\n",
    "\n",
    "The first way automatically passes the object(emp_1) to the method, whereas in the second way, we need to manually pass it.\n",
    "\n",
    "Hence, we use **self** keyword as first argument in the method, to receive the object from the method call(emp_1), since internally python uses second form for calling a method."
   ]
  },
  {
   "cell_type": "code",
   "execution_count": null,
   "metadata": {
    "collapsed": true
   },
   "outputs": [],
   "source": []
  },
  {
   "cell_type": "markdown",
   "metadata": {},
   "source": [
    "### Class Variables"
   ]
  },
  {
   "cell_type": "code",
   "execution_count": 5,
   "metadata": {
    "collapsed": true
   },
   "outputs": [],
   "source": [
    "class Employee:\n",
    "    raise_amount = 1.5\n",
    "    number_of_employees = 0\n",
    "    \n",
    "    def __init__(self, first, last, pay):\n",
    "        self.first = first\n",
    "        self.last = last\n",
    "        self.pay = pay\n",
    "        self.email = first + '.' + last + '@company.com'\n",
    "        Employee.number_of_employees +=1\n",
    "        \n",
    "    def full_name(self):\n",
    "      return \"Name: {0} {1}, Email: {2} and Pay: {3}\".format(self.first, self.last, self.email, self.pay)  \n",
    "    \n",
    "    def apply_raise(self):\n",
    "        self.pay = self.pay * raise_amount"
   ]
  },
  {
   "cell_type": "code",
   "execution_count": 6,
   "metadata": {
    "collapsed": true
   },
   "outputs": [],
   "source": [
    "emp_1 = Employee('Sam','Johnson',50000)\n",
    "emp_2 = Employee('Wayne','Rooney',100000)"
   ]
  },
  {
   "cell_type": "code",
   "execution_count": 7,
   "metadata": {},
   "outputs": [
    {
     "name": "stdout",
     "output_type": "stream",
     "text": [
      "{'pay': 50000, 'last': 'Johnson', 'email': 'Sam.Johnson@company.com', 'first': 'Sam'}\n"
     ]
    }
   ],
   "source": [
    "# Check the scope of employee objects\n",
    "print emp_1.__dict__\n",
    "\n",
    "# Since raise_amount variable isn't present, hence it's a class variable"
   ]
  },
  {
   "cell_type": "code",
   "execution_count": 8,
   "metadata": {},
   "outputs": [
    {
     "name": "stdout",
     "output_type": "stream",
     "text": [
      "{'__module__': '__main__', '__init__': <function __init__ at 0x7f43344baaa0>, 'full_name': <function full_name at 0x7f43344ba668>, 'raise_amount': 1.5, 'number_of_employees': 2, '__doc__': None, 'apply_raise': <function apply_raise at 0x7f43344ba9b0>}\n"
     ]
    }
   ],
   "source": [
    "print Employee.__dict__\n",
    "\n",
    "# Proves raise_amount is a class variable"
   ]
  },
  {
   "cell_type": "code",
   "execution_count": 9,
   "metadata": {},
   "outputs": [
    {
     "name": "stdout",
     "output_type": "stream",
     "text": [
      "1.5\n",
      "1.5\n"
     ]
    }
   ],
   "source": [
    "print emp_1.raise_amount\n",
    "print emp_2.raise_amount"
   ]
  },
  {
   "cell_type": "code",
   "execution_count": 10,
   "metadata": {},
   "outputs": [
    {
     "name": "stdout",
     "output_type": "stream",
     "text": [
      "Help on class Employee in module __main__:\n",
      "\n",
      "class Employee\n",
      " |  Methods defined here:\n",
      " |  \n",
      " |  __init__(self, first, last, pay)\n",
      " |  \n",
      " |  apply_raise(self)\n",
      " |  \n",
      " |  full_name(self)\n",
      " |  \n",
      " |  ----------------------------------------------------------------------\n",
      " |  Data and other attributes defined here:\n",
      " |  \n",
      " |  number_of_employees = 2\n",
      " |  \n",
      " |  raise_amount = 1.5\n",
      "\n",
      "None\n"
     ]
    }
   ],
   "source": [
    "print help(Employee)"
   ]
  },
  {
   "cell_type": "markdown",
   "metadata": {},
   "source": [
    "#### Note: \n",
    "\n",
    "An object can access variables from these locations:\n",
    "- Instance Variables\n",
    "- Class Variables\n",
    "- Variables of Base Class\n",
    "- Variables from object Class\n",
    "\n",
    "We are able to access raise_amount variable from objects because internally python checks if raise_amount is an instance variable, if it's not, then it checks whether it is a class variable, which it is, hence objects can access the class variables.\n",
    "\n",
    "Objects can also access variables from the base class, i.e the parent class of the current class.\n",
    "\n",
    "This is called method resolution order.\n",
    "\n",
    "Use print **help(classname) ** for more information."
   ]
  },
  {
   "cell_type": "markdown",
   "metadata": {},
   "source": [
    "#### Modifying a Class Variable using an Object"
   ]
  },
  {
   "cell_type": "code",
   "execution_count": 11,
   "metadata": {},
   "outputs": [
    {
     "name": "stdout",
     "output_type": "stream",
     "text": [
      "1.5\n",
      "1.5\n",
      "1.5\n"
     ]
    }
   ],
   "source": [
    "print emp_1.raise_amount\n",
    "print emp_2.raise_amount\n",
    "print Employee.raise_amount"
   ]
  },
  {
   "cell_type": "code",
   "execution_count": 12,
   "metadata": {
    "collapsed": true
   },
   "outputs": [],
   "source": [
    "emp_1.raise_amount = 2"
   ]
  },
  {
   "cell_type": "code",
   "execution_count": 13,
   "metadata": {},
   "outputs": [
    {
     "name": "stdout",
     "output_type": "stream",
     "text": [
      "2\n",
      "1.5\n",
      "1.5\n"
     ]
    }
   ],
   "source": [
    "print emp_1.raise_amount\n",
    "print emp_2.raise_amount\n",
    "print Employee.raise_amount"
   ]
  },
  {
   "cell_type": "markdown",
   "metadata": {},
   "source": [
    "### Important\n",
    "#### Why did raise_amount value changed only for emp_1?\n",
    "\n",
    "That's because python first created an instance variable(raise_amount) for emp_1 and then updated it.\n",
    "\n",
    "Other objects still access the class variable."
   ]
  },
  {
   "cell_type": "code",
   "execution_count": 14,
   "metadata": {},
   "outputs": [
    {
     "name": "stdout",
     "output_type": "stream",
     "text": [
      "{'pay': 50000, 'raise_amount': 2, 'last': 'Johnson', 'email': 'Sam.Johnson@company.com', 'first': 'Sam'}\n"
     ]
    }
   ],
   "source": [
    "print emp_1.__dict__"
   ]
  },
  {
   "cell_type": "code",
   "execution_count": 15,
   "metadata": {},
   "outputs": [
    {
     "name": "stdout",
     "output_type": "stream",
     "text": [
      "{'pay': 100000, 'last': 'Rooney', 'email': 'Wayne.Rooney@company.com', 'first': 'Wayne'}\n"
     ]
    }
   ],
   "source": [
    "print emp_2.__dict__"
   ]
  },
  {
   "cell_type": "code",
   "execution_count": 16,
   "metadata": {
    "collapsed": true
   },
   "outputs": [],
   "source": [
    "# Notice the difference in the above two statements."
   ]
  },
  {
   "cell_type": "code",
   "execution_count": null,
   "metadata": {
    "collapsed": true
   },
   "outputs": [],
   "source": []
  },
  {
   "cell_type": "markdown",
   "metadata": {},
   "source": [
    "### Class Methods"
   ]
  },
  {
   "cell_type": "code",
   "execution_count": 17,
   "metadata": {
    "collapsed": true
   },
   "outputs": [],
   "source": [
    "class Employee:\n",
    "    raise_amount = 1.5\n",
    "    number_of_employees = 0\n",
    "    \n",
    "    def __init__(self, first, last, pay):\n",
    "        self.first = first\n",
    "        self.last = last\n",
    "        self.pay = pay\n",
    "        self.email = first + '.' + last + '@company.com'\n",
    "        Employee.number_of_employees +=1\n",
    "        \n",
    "    def full_name(self):\n",
    "      return \"Name: {0} {1}, Email: {2} and Pay: {3}\".format(self.first, self.last, self.email, self.pay)  \n",
    "    \n",
    "    def apply_raise(self):\n",
    "        self.pay = self.pay * raise_amount\n",
    "        \n",
    "    @classmethod\n",
    "    def get_number_of_employees(cls):\n",
    "        return cls.number_of_employees\n",
    "    \n",
    "    @classmethod\n",
    "    def set_raise_amount(cls,amount):\n",
    "        cls.raise_amount = amount"
   ]
  },
  {
   "cell_type": "markdown",
   "metadata": {},
   "source": [
    "#### Note: \n",
    "\n",
    "** cls ** is a notation used for class methods.\n",
    "#### Note: \n",
    "\n",
    "** cls ** is a notation used for class methods.\n",
    "\n",
    "** self ** is a notation used for traditional methods.\n",
    "\n",
    "** @classmethod ** decorator should be used to describe a method as class method, along with **cls**.\n",
    "** self ** is a notation used for traditional methods.\n",
    "\n",
    "** @classmethod ** decorator should be used to describe a method as class method, along with **cls**."
   ]
  },
  {
   "cell_type": "code",
   "execution_count": 18,
   "metadata": {
    "collapsed": true
   },
   "outputs": [],
   "source": [
    "emp_1 = Employee('Sam','Johnson',50000)\n",
    "emp_2 = Employee('Wayne','Rooney',100000)"
   ]
  },
  {
   "cell_type": "code",
   "execution_count": 19,
   "metadata": {},
   "outputs": [
    {
     "name": "stdout",
     "output_type": "stream",
     "text": [
      "2\n"
     ]
    }
   ],
   "source": [
    "print Employee.get_number_of_employees()"
   ]
  },
  {
   "cell_type": "code",
   "execution_count": 20,
   "metadata": {},
   "outputs": [
    {
     "name": "stdout",
     "output_type": "stream",
     "text": [
      "1.5\n",
      "1.5\n",
      "1.5\n"
     ]
    }
   ],
   "source": [
    "print emp_1.raise_amount\n",
    "print emp_2.raise_amount\n",
    "print Employee.raise_amount"
   ]
  },
  {
   "cell_type": "code",
   "execution_count": 21,
   "metadata": {
    "collapsed": true
   },
   "outputs": [],
   "source": [
    "# Changes raise_amount variable to 1.6 at class level.\n",
    "Employee.set_raise_amount(1.6)"
   ]
  },
  {
   "cell_type": "code",
   "execution_count": 22,
   "metadata": {},
   "outputs": [
    {
     "name": "stdout",
     "output_type": "stream",
     "text": [
      "1.6\n",
      "1.6\n",
      "1.6\n"
     ]
    }
   ],
   "source": [
    "print emp_1.raise_amount\n",
    "print emp_2.raise_amount\n",
    "print Employee.raise_amount"
   ]
  },
  {
   "cell_type": "code",
   "execution_count": 23,
   "metadata": {},
   "outputs": [
    {
     "name": "stdout",
     "output_type": "stream",
     "text": [
      "1.4\n"
     ]
    }
   ],
   "source": [
    "# You can even call set_raise_amount method using an instance\n",
    "\n",
    "emp_1.set_raise_amount(1.4)\n",
    "print emp_1.raise_amount\n",
    "\n",
    "# It changes the raise_amount variable at class level."
   ]
  },
  {
   "cell_type": "code",
   "execution_count": 24,
   "metadata": {},
   "outputs": [
    {
     "name": "stdout",
     "output_type": "stream",
     "text": [
      "{'pay': 50000, 'last': 'Johnson', 'email': 'Sam.Johnson@company.com', 'first': 'Sam'}\n"
     ]
    }
   ],
   "source": [
    "print emp_1.__dict__"
   ]
  },
  {
   "cell_type": "code",
   "execution_count": 25,
   "metadata": {},
   "outputs": [
    {
     "name": "stdout",
     "output_type": "stream",
     "text": [
      "1.4\n"
     ]
    }
   ],
   "source": [
    "print emp_2.raise_amount"
   ]
  },
  {
   "cell_type": "code",
   "execution_count": null,
   "metadata": {
    "collapsed": true
   },
   "outputs": [],
   "source": []
  },
  {
   "cell_type": "markdown",
   "metadata": {},
   "source": [
    "### Using Class Methods as Alternative Constructors\n",
    "\n",
    "Instantiating new objects in class method, dynamically."
   ]
  },
  {
   "cell_type": "code",
   "execution_count": 26,
   "metadata": {
    "collapsed": true
   },
   "outputs": [],
   "source": [
    "class Employee:\n",
    "    raise_amount = 1.5\n",
    "    number_of_employees = 0\n",
    "    \n",
    "    def __init__(self, first, last, pay):\n",
    "        self.first = first\n",
    "        self.last = last\n",
    "        self.pay = pay\n",
    "        self.email = first + '.' + last + '@company.com'\n",
    "        Employee.number_of_employees +=1\n",
    "        \n",
    "    def full_name(self):\n",
    "      return \"Name: {0} {1}, Email: {2} and Pay: {3}\".format(self.first, self.last, self.email, self.pay)  \n",
    "    \n",
    "    def apply_raise(self):\n",
    "        self.pay = self.pay * raise_amount\n",
    "        \n",
    "    @classmethod\n",
    "    def get_number_of_employees(cls):\n",
    "        return cls.number_of_employees\n",
    "    \n",
    "    @classmethod\n",
    "    def set_raise_amount(cls,amount):\n",
    "        cls.raise_amount = amount\n",
    "\n",
    "# Additional Constructor\n",
    "    @classmethod\n",
    "    def from_string(cls, emp_string):\n",
    "        \"\"\" Constructs a new Employee Object from the data given.\"\"\"\n",
    "        first, last, pay = emp_string.split('-')\n",
    "        return cls(first, last, pay)"
   ]
  },
  {
   "cell_type": "code",
   "execution_count": 27,
   "metadata": {
    "collapsed": true
   },
   "outputs": [],
   "source": [
    "emp_string_1 = 'John-Doe-3000'\n",
    "emp_string_2 = 'Tom-Hanks-300000'\n",
    "emp_string_3 = 'Henry-Gayle-30000'"
   ]
  },
  {
   "cell_type": "code",
   "execution_count": 28,
   "metadata": {},
   "outputs": [
    {
     "name": "stdout",
     "output_type": "stream",
     "text": [
      "<__main__.Employee instance at 0x7f4334466320>\n",
      "Tom Hanks\n"
     ]
    }
   ],
   "source": [
    "new_emp_2 = Employee.from_string(emp_string_2)\n",
    "print new_emp_2\n",
    "# New Instance of Employee Class\n",
    "\n",
    "print new_emp_2.first, new_emp_2.last"
   ]
  },
  {
   "cell_type": "code",
   "execution_count": null,
   "metadata": {
    "collapsed": true
   },
   "outputs": [],
   "source": []
  },
  {
   "cell_type": "markdown",
   "metadata": {},
   "source": [
    "### Static Methods"
   ]
  },
  {
   "cell_type": "markdown",
   "metadata": {},
   "source": [
    "Static methods **doesn't** contain any **keyword** (neither self nor cls)."
   ]
  },
  {
   "cell_type": "markdown",
   "metadata": {},
   "source": [
    "#### Note: \n",
    "\n",
    "- ** cls ** is a notation used for class methods.\n",
    "\n",
    "- ** self ** is a notation used for traditional methods.\n",
    "\n",
    "- ** There's NO such notation ** for static methods.\n",
    "\n",
    "** @staticmethod ** decorator should be used to describe a method as static method."
   ]
  },
  {
   "cell_type": "code",
   "execution_count": 29,
   "metadata": {
    "collapsed": true
   },
   "outputs": [],
   "source": [
    "## Check whether a given day is a weekday or not"
   ]
  },
  {
   "cell_type": "code",
   "execution_count": 30,
   "metadata": {
    "collapsed": true
   },
   "outputs": [],
   "source": [
    "class Employee:\n",
    "    @staticmethod\n",
    "    def check_day(day):\n",
    "        if((day.weekday() == 5) or (day.weekday() == 6)):\n",
    "            return False\n",
    "        else:\n",
    "            return True"
   ]
  },
  {
   "cell_type": "code",
   "execution_count": 31,
   "metadata": {
    "collapsed": true
   },
   "outputs": [],
   "source": [
    "import datetime"
   ]
  },
  {
   "cell_type": "code",
   "execution_count": 32,
   "metadata": {},
   "outputs": [
    {
     "name": "stdout",
     "output_type": "stream",
     "text": [
      "True\n"
     ]
    }
   ],
   "source": [
    "day = datetime.date(2017,5,26)\n",
    "print Employee.check_day(day)"
   ]
  },
  {
   "cell_type": "markdown",
   "metadata": {},
   "source": [
    "### When to use which type of method?"
   ]
  },
  {
   "cell_type": "markdown",
   "metadata": {},
   "source": [
    "### Static Methods:\n",
    "\n",
    "Static methods have limited use, since they don't have access to attributes of any instance of a class(like a regular method does) and they don't have access to attributes of class as well.\n",
    "\n",
    "They can be used in situations when some operations need to be performed without accessing any attributes.\n",
    "\n",
    "For example a simple conversion from one type to another, where user provides the input data.\n",
    "\n",
    "** Advantages of using static methods: ** \n",
    "\n",
    "- Eliminates use of self argument.\n",
    "- Reduces memory usage because Python doesn't have to instantiate a bound-method for each instantiated object.\n",
    "- Improves code readability, signifying that the method doesn't depend on the state of object itself.\n",
    "- Allows method overriding in that if the method were defined at the module level(i.e outside the class) then a subclass wouldn't be able to override that method.\n",
    "\n",
    "\n",
    "### Class Methods:\n",
    "\n",
    "Class Methods are useful when you need to have methods that aren't specific to any particular instance, but still involve class in some way.\n",
    "\n",
    "They **can be overridden ** by sub-classes.\n",
    "\n",
    "\n",
    "Factory methods(alternative constructors) are indeed classic examples of class methods.(**from_string** method defined above)."
   ]
  },
  {
   "cell_type": "code",
   "execution_count": null,
   "metadata": {
    "collapsed": true
   },
   "outputs": [],
   "source": []
  },
  {
   "cell_type": "markdown",
   "metadata": {},
   "source": [
    "## Inheritance"
   ]
  },
  {
   "cell_type": "code",
   "execution_count": 33,
   "metadata": {
    "collapsed": true
   },
   "outputs": [],
   "source": [
    "class Employee(object):\n",
    "    raise_amount = 1.5\n",
    "    number_of_employees = 0\n",
    "    \n",
    "    def __init__(self, first, last, pay):\n",
    "        self.first = first\n",
    "        self.last = last\n",
    "        self.pay = pay\n",
    "        self.email = first + '.' + last + '@company.com'\n",
    "        Employee.number_of_employees +=1\n",
    "        \n",
    "    def full_name(self):\n",
    "        return \"Name: {0} {1}, Email: {2} and Pay: {3}\".format(self.first, self.last, self.email, self.pay)  \n",
    "    \n",
    "    def apply_raise(self):\n",
    "        self.pay = self.pay * self.raise_amount\n",
    "        \n",
    "    @classmethod\n",
    "    def get_number_of_employees(cls):\n",
    "        return cls.number_of_employees"
   ]
  },
  {
   "cell_type": "code",
   "execution_count": 34,
   "metadata": {
    "collapsed": true
   },
   "outputs": [],
   "source": [
    "class Developer(Employee):\n",
    "    raise_amount = 1.10"
   ]
  },
  {
   "cell_type": "code",
   "execution_count": 35,
   "metadata": {
    "collapsed": true
   },
   "outputs": [],
   "source": [
    "class Tester(Employee):\n",
    "    pass"
   ]
  },
  {
   "cell_type": "code",
   "execution_count": 36,
   "metadata": {},
   "outputs": [
    {
     "name": "stdout",
     "output_type": "stream",
     "text": [
      "Name: Akash Shah, Email: Akash.Shah@company.com and Pay: 50000\n"
     ]
    }
   ],
   "source": [
    "dev_1 = Developer('Akash','Shah',50000)\n",
    "tester_1 = Developer('Sam','Cook',5000)\n",
    "\n",
    "print dev_1.full_name()"
   ]
  },
  {
   "cell_type": "code",
   "execution_count": 37,
   "metadata": {
    "collapsed": true
   },
   "outputs": [],
   "source": [
    "#print help(Developer)"
   ]
  },
  {
   "cell_type": "code",
   "execution_count": 38,
   "metadata": {},
   "outputs": [
    {
     "name": "stdout",
     "output_type": "stream",
     "text": [
      "50000\n",
      "55000.0\n"
     ]
    }
   ],
   "source": [
    "print dev_1.pay\n",
    "dev_1.apply_raise()\n",
    "print dev_1.pay"
   ]
  },
  {
   "cell_type": "code",
   "execution_count": 39,
   "metadata": {},
   "outputs": [
    {
     "name": "stdout",
     "output_type": "stream",
     "text": [
      "1.1\n",
      "5000\n",
      "5500.0\n"
     ]
    }
   ],
   "source": [
    "print tester_1.raise_amount\n",
    "print tester_1.pay\n",
    "tester_1.apply_raise()\n",
    "print tester_1.pay"
   ]
  },
  {
   "cell_type": "markdown",
   "metadata": {},
   "source": [
    "#### Adding more attributes to Developer Class."
   ]
  },
  {
   "cell_type": "code",
   "execution_count": 40,
   "metadata": {
    "collapsed": true
   },
   "outputs": [],
   "source": [
    "class Developer(Employee):\n",
    "    \n",
    "    def __init__(self, first, last, pay, prog_lang):\n",
    "        super(Developer,self).__init__(first, last, pay)                \n",
    "        self.prog_lang = prog_lang\n",
    "        # Employee().__init__(self, first, last, pay)"
   ]
  },
  {
   "cell_type": "markdown",
   "metadata": {},
   "source": [
    "``` super().__init__(first, last, pay) let's the parent class init method initialize common attributes  ```"
   ]
  },
  {
   "cell_type": "code",
   "execution_count": 41,
   "metadata": {
    "collapsed": true
   },
   "outputs": [],
   "source": [
    "dev_1 = Developer('Akash','Shah',50000,'Python')"
   ]
  },
  {
   "cell_type": "code",
   "execution_count": 42,
   "metadata": {},
   "outputs": [
    {
     "name": "stdout",
     "output_type": "stream",
     "text": [
      "Name: Akash Shah, Email: Akash.Shah@company.com and Pay: 50000\n"
     ]
    }
   ],
   "source": [
    "print dev_1.full_name()"
   ]
  },
  {
   "cell_type": "code",
   "execution_count": 43,
   "metadata": {},
   "outputs": [
    {
     "name": "stdout",
     "output_type": "stream",
     "text": [
      "1.5\n"
     ]
    }
   ],
   "source": [
    "print dev_1.raise_amount"
   ]
  },
  {
   "cell_type": "code",
   "execution_count": 44,
   "metadata": {
    "collapsed": true
   },
   "outputs": [],
   "source": [
    "class Tester(Employee):\n",
    "    def __init__(self, first,last, pay, framework):\n",
    "        super(Tester, self).__init__(first, last, pay)\n",
    "        self.framework = framework\n",
    "        # Employee().__init__(self, first, last, pay)"
   ]
  },
  {
   "cell_type": "code",
   "execution_count": 45,
   "metadata": {
    "collapsed": true
   },
   "outputs": [],
   "source": [
    "tester_1 = Tester('Sam', 'Billings', 500, 'JUnit')"
   ]
  },
  {
   "cell_type": "code",
   "execution_count": 46,
   "metadata": {},
   "outputs": [
    {
     "data": {
      "text/plain": [
       "'JUnit'"
      ]
     },
     "execution_count": 46,
     "metadata": {},
     "output_type": "execute_result"
    }
   ],
   "source": [
    "tester_1.framework"
   ]
  },
  {
   "cell_type": "code",
   "execution_count": 47,
   "metadata": {
    "collapsed": true
   },
   "outputs": [],
   "source": [
    "class Manager(Employee):\n",
    "    def __init__(self, first, last, pay, employee = None):\n",
    "        super(Manager, self).__init__(first, last, pay)\n",
    "        if employee is None:\n",
    "            self.employees = []\n",
    "        else:\n",
    "            self.employees = employee\n",
    "            \n",
    "    def add_employee(self, employee):\n",
    "        if(employee not in self.employees):\n",
    "            self.employees.append(employee)\n",
    "    \n",
    "    def remove_employee(self, employee):\n",
    "        if(employee in self.employees):\n",
    "            self.employees.remove(employee)\n",
    "            print \"Employee Deleted\"\n",
    "        else:\n",
    "            print \"No Such Employee\"\n",
    "    \n",
    "    # Returns a generator instead of a list of employee objects\n",
    "    def print_employees(self):\n",
    "        if self.employees is None:\n",
    "            return None\n",
    "        else:\n",
    "            return (x for x in self.employees)"
   ]
  },
  {
   "cell_type": "code",
   "execution_count": null,
   "metadata": {
    "collapsed": true
   },
   "outputs": [],
   "source": []
  },
  {
   "cell_type": "markdown",
   "metadata": {},
   "source": [
    "** Creating Object Of Manager Class **"
   ]
  },
  {
   "cell_type": "code",
   "execution_count": 48,
   "metadata": {
    "collapsed": true
   },
   "outputs": [],
   "source": [
    "manager_1 = Manager('Sir Alex', 'Ferguson', 1000000)"
   ]
  },
  {
   "cell_type": "code",
   "execution_count": 49,
   "metadata": {},
   "outputs": [
    {
     "data": {
      "text/plain": [
       "<generator object <genexpr> at 0x7f4334515cd0>"
      ]
     },
     "execution_count": 49,
     "metadata": {},
     "output_type": "execute_result"
    }
   ],
   "source": [
    "gen_expr = manager_1.print_employees()\n",
    "gen_expr"
   ]
  },
  {
   "cell_type": "code",
   "execution_count": 50,
   "metadata": {
    "collapsed": true
   },
   "outputs": [],
   "source": [
    "# Empty because there are no employees assigned to the manager.\n",
    "for i in gen_expr:\n",
    "    print i.full_name()"
   ]
  },
  {
   "cell_type": "code",
   "execution_count": 51,
   "metadata": {
    "collapsed": true
   },
   "outputs": [],
   "source": [
    "manager_1.add_employee(dev_1)\n",
    "manager_1.add_employee(tester_1)"
   ]
  },
  {
   "cell_type": "code",
   "execution_count": 52,
   "metadata": {},
   "outputs": [
    {
     "data": {
      "text/plain": [
       "<generator object <genexpr> at 0x7f4334515f00>"
      ]
     },
     "execution_count": 52,
     "metadata": {},
     "output_type": "execute_result"
    }
   ],
   "source": [
    "gen_expr = manager_1.print_employees()\n",
    "gen_expr"
   ]
  },
  {
   "cell_type": "code",
   "execution_count": 53,
   "metadata": {},
   "outputs": [
    {
     "name": "stdout",
     "output_type": "stream",
     "text": [
      "Name: Akash Shah, Email: Akash.Shah@company.com and Pay: 50000\n",
      "Name: Sam Billings, Email: Sam.Billings@company.com and Pay: 500\n"
     ]
    }
   ],
   "source": [
    "for i in gen_expr:\n",
    "    print i.full_name()"
   ]
  },
  {
   "cell_type": "code",
   "execution_count": 54,
   "metadata": {
    "collapsed": true
   },
   "outputs": [],
   "source": [
    "manager_2 = Manager('Jose','Mourinho', 500000,[dev_1, tester_1])"
   ]
  },
  {
   "cell_type": "code",
   "execution_count": 55,
   "metadata": {},
   "outputs": [
    {
     "name": "stdout",
     "output_type": "stream",
     "text": [
      "Employee Deleted\n"
     ]
    }
   ],
   "source": [
    "manager_2.remove_employee(dev_1)"
   ]
  },
  {
   "cell_type": "code",
   "execution_count": 56,
   "metadata": {
    "collapsed": true
   },
   "outputs": [],
   "source": [
    "gen_emp = manager_2.print_employees()"
   ]
  },
  {
   "cell_type": "code",
   "execution_count": 57,
   "metadata": {},
   "outputs": [
    {
     "name": "stdout",
     "output_type": "stream",
     "text": [
      "Name: Sam Billings, Email: Sam.Billings@company.com and Pay: 500\n"
     ]
    }
   ],
   "source": [
    "for i in gen_emp:\n",
    "    print i.full_name()"
   ]
  },
  {
   "cell_type": "code",
   "execution_count": 58,
   "metadata": {},
   "outputs": [
    {
     "name": "stdout",
     "output_type": "stream",
     "text": [
      "No Such Employee\n"
     ]
    }
   ],
   "source": [
    "manager_2.remove_employee(dev_1)"
   ]
  },
  {
   "cell_type": "code",
   "execution_count": null,
   "metadata": {
    "collapsed": true
   },
   "outputs": [],
   "source": []
  },
  {
   "cell_type": "markdown",
   "metadata": {},
   "source": [
    "** isinstance ** and  ** issubclass ** method"
   ]
  },
  {
   "cell_type": "code",
   "execution_count": 59,
   "metadata": {},
   "outputs": [
    {
     "name": "stdout",
     "output_type": "stream",
     "text": [
      "True\n"
     ]
    }
   ],
   "source": [
    "print(issubclass(Manager, Employee))"
   ]
  },
  {
   "cell_type": "code",
   "execution_count": 60,
   "metadata": {},
   "outputs": [
    {
     "name": "stdout",
     "output_type": "stream",
     "text": [
      "False\n"
     ]
    }
   ],
   "source": [
    "print(issubclass(Manager, Developer))"
   ]
  },
  {
   "cell_type": "code",
   "execution_count": 61,
   "metadata": {},
   "outputs": [
    {
     "name": "stdout",
     "output_type": "stream",
     "text": [
      "True\n"
     ]
    }
   ],
   "source": [
    "print(isinstance(dev_1, Employee))"
   ]
  },
  {
   "cell_type": "code",
   "execution_count": 62,
   "metadata": {},
   "outputs": [
    {
     "name": "stdout",
     "output_type": "stream",
     "text": [
      "True\n"
     ]
    }
   ],
   "source": [
    "print(isinstance(dev_1, Developer))"
   ]
  },
  {
   "cell_type": "code",
   "execution_count": 63,
   "metadata": {},
   "outputs": [
    {
     "name": "stdout",
     "output_type": "stream",
     "text": [
      "False\n"
     ]
    }
   ],
   "source": [
    "print(isinstance(dev_1, Manager))"
   ]
  },
  {
   "cell_type": "code",
   "execution_count": null,
   "metadata": {
    "collapsed": true
   },
   "outputs": [],
   "source": []
  },
  {
   "cell_type": "markdown",
   "metadata": {},
   "source": [
    "### Hierarchical Inheritance\n",
    "\n",
    "** C <- B <- A (super class) ** "
   ]
  },
  {
   "cell_type": "code",
   "execution_count": 64,
   "metadata": {
    "collapsed": true
   },
   "outputs": [],
   "source": [
    "class A(object):\n",
    "    def __init__(self, name, age):\n",
    "        self.name = name\n",
    "        self.age = age\n",
    "    \n",
    "    #overridden method\n",
    "    def print_info(self):\n",
    "        print \"Name: {}, Age: {} \". format(self.name, self.age)\n",
    "        \n",
    "    def testA(self):\n",
    "        print \"Method in Class A\""
   ]
  },
  {
   "cell_type": "code",
   "execution_count": 65,
   "metadata": {
    "collapsed": true
   },
   "outputs": [],
   "source": [
    "class B(A):\n",
    "    def __init__(self, name, age, profession):\n",
    "        super(B, self).__init__(name, age)\n",
    "        self.profession = profession\n",
    "    \n",
    "    #overridden method\n",
    "    def print_info(self):\n",
    "        print \"Name: {}, Age: {}, Profession:{}  \". format(self.name, self.age, self.profession)\n",
    "        \n",
    "    def testB(self):\n",
    "        print \"Method in Class B\""
   ]
  },
  {
   "cell_type": "code",
   "execution_count": 66,
   "metadata": {
    "collapsed": true
   },
   "outputs": [],
   "source": [
    "class C(B):\n",
    "    def __init__(self, name, age, profession, gender):\n",
    "        super(C, self).__init__(name, age, profession)\n",
    "        self.gender = gender\n",
    "    \n",
    "    #overridden method\n",
    "    def print_info(self):\n",
    "        print \"Name: {}, Age: {}, Profession: {}, Gender: {}\". format(self.name, self.age, self.profession, self.gender)\n",
    "    \n",
    "    def testC(self):\n",
    "        print \"Method in Class C\"\n",
    "    \n",
    "    # Call an overridden method from parent class\n",
    "    def call_super_method(self):\n",
    "        super(C, self).print_info()"
   ]
  },
  {
   "cell_type": "code",
   "execution_count": 67,
   "metadata": {
    "collapsed": true
   },
   "outputs": [],
   "source": [
    "objC = C('Akash',22, 'Engineer', 'Male')"
   ]
  },
  {
   "cell_type": "code",
   "execution_count": 68,
   "metadata": {},
   "outputs": [
    {
     "name": "stdout",
     "output_type": "stream",
     "text": [
      "Name: Akash, Age: 22, Profession: Engineer, Gender: Male\n"
     ]
    }
   ],
   "source": [
    "objC.print_info()"
   ]
  },
  {
   "cell_type": "code",
   "execution_count": 69,
   "metadata": {},
   "outputs": [
    {
     "name": "stdout",
     "output_type": "stream",
     "text": [
      "Method in Class B\n"
     ]
    }
   ],
   "source": [
    "objC.testB()"
   ]
  },
  {
   "cell_type": "code",
   "execution_count": 70,
   "metadata": {},
   "outputs": [
    {
     "name": "stdout",
     "output_type": "stream",
     "text": [
      "Name: Akash, Age: 22, Profession:Engineer  \n"
     ]
    }
   ],
   "source": [
    "objC.call_super_method()"
   ]
  },
  {
   "cell_type": "code",
   "execution_count": 71,
   "metadata": {
    "collapsed": true
   },
   "outputs": [],
   "source": [
    "objB = B('Akash',22, 'Engineer')"
   ]
  },
  {
   "cell_type": "code",
   "execution_count": 72,
   "metadata": {},
   "outputs": [
    {
     "name": "stdout",
     "output_type": "stream",
     "text": [
      "Name: Akash, Age: 22, Profession:Engineer  \n"
     ]
    }
   ],
   "source": [
    "objB.print_info()"
   ]
  },
  {
   "cell_type": "code",
   "execution_count": 73,
   "metadata": {},
   "outputs": [
    {
     "name": "stdout",
     "output_type": "stream",
     "text": [
      "Method in Class A\n"
     ]
    }
   ],
   "source": [
    "# Calling a method of Parent Class from Child Class\n",
    "objC.testA()"
   ]
  },
  {
   "cell_type": "code",
   "execution_count": null,
   "metadata": {
    "collapsed": true
   },
   "outputs": [],
   "source": []
  },
  {
   "cell_type": "markdown",
   "metadata": {},
   "source": [
    "### Topics covered: \n",
    "\n",
    "- **Self** variable\n",
    "- Ways of calling a method\n",
    "- Class Variables\n",
    "- Class Methods\n",
    "- Static Methods\n",
    "- Inheritance\n",
    "\n",
    "\n",
    "### Topics to be covered: \n",
    "\n",
    "- Magic Methods\n",
    "- Encapsulation\n",
    "- Data Abstraction\n",
    "- Polymorphism"
   ]
  },
  {
   "cell_type": "markdown",
   "metadata": {},
   "source": [
    "### Magic Methods"
   ]
  },
  {
   "cell_type": "code",
   "execution_count": 74,
   "metadata": {
    "collapsed": true
   },
   "outputs": [],
   "source": [
    "class Employee(object):\n",
    "    raise_amount = 1.5\n",
    "    number_of_employees = 0\n",
    "    \n",
    "    def __init__(self, first, last, pay):\n",
    "        self.first = first\n",
    "        self.last = last\n",
    "        self.pay = pay\n",
    "        self.email = first + '.' + last + '@company.com'\n",
    "        Employee.number_of_employees +=1\n",
    "        \n",
    "    def full_name(self):\n",
    "        return \"{} {}\".format(self.first, self.last)  \n",
    "    \n",
    "    def apply_raise(self):\n",
    "        self.pay = self.pay * self.raise_amount\n",
    "        \n",
    "    @classmethod\n",
    "    def get_number_of_employees(cls):\n",
    "        return cls.number_of_employees\n",
    "    \n",
    "    # Return statement format of repr is a convention to keep it similar to RHS of object creation syntax \n",
    "    def __repr__(self):\n",
    "        return \"Employee({}, {}, {})\".format(self.first, self.last, self.pay)\n",
    "    \n",
    "    def __str__(self):\n",
    "        return \"Name: {}, Email: {} \".format(self.full_name(), self.email)"
   ]
  },
  {
   "cell_type": "code",
   "execution_count": 75,
   "metadata": {
    "collapsed": true
   },
   "outputs": [],
   "source": [
    "emp1 = Employee('Akash','Shah', 50000)"
   ]
  },
  {
   "cell_type": "code",
   "execution_count": 76,
   "metadata": {},
   "outputs": [
    {
     "name": "stdout",
     "output_type": "stream",
     "text": [
      "Name: Akash Shah, Email: Akash.Shah@company.com \n"
     ]
    }
   ],
   "source": [
    "# Output when __repr__ or __str__ methods are not overridden.\n",
    "# <__main__.Employee object at 0x7faae00f3810>\n",
    "\n",
    "print emp1"
   ]
  },
  {
   "cell_type": "code",
   "execution_count": 77,
   "metadata": {},
   "outputs": [
    {
     "name": "stdout",
     "output_type": "stream",
     "text": [
      "Name: Akash Shah, Email: Akash.Shah@company.com \n"
     ]
    }
   ],
   "source": [
    "print emp1"
   ]
  },
  {
   "cell_type": "code",
   "execution_count": null,
   "metadata": {
    "collapsed": true
   },
   "outputs": [],
   "source": []
  },
  {
   "cell_type": "markdown",
   "metadata": {},
   "source": [
    "#### Note ####\n",
    "\n",
    "** Difference between repr and str methods **\n",
    "\n",
    "- Add log like statements for debugging in __repr__ and perform pretty printing in __str__ method.\n",
    "\n",
    "- If you override __repr__, it caters for __str__, but not vice-versa.\n",
    "- Container's __str__ uses contained objects's __repr__\n",
    "- __repr__ is for developers and __str__ is for customers."
   ]
  },
  {
   "cell_type": "markdown",
   "metadata": {},
   "source": [
    "#### Overriding default __add__ method"
   ]
  },
  {
   "cell_type": "code",
   "execution_count": 78,
   "metadata": {},
   "outputs": [
    {
     "name": "stdout",
     "output_type": "stream",
     "text": [
      "3\n"
     ]
    }
   ],
   "source": [
    "print 1 + 2"
   ]
  },
  {
   "cell_type": "code",
   "execution_count": 79,
   "metadata": {},
   "outputs": [
    {
     "name": "stdout",
     "output_type": "stream",
     "text": [
      "ab\n"
     ]
    }
   ],
   "source": [
    "print 'a' + 'b'"
   ]
  },
  {
   "cell_type": "markdown",
   "metadata": {},
   "source": [
    "#### Note: \n",
    "\n",
    "- '+' operator has different implementations for different data types, for eg: str and int.\n",
    "\n",
    "**Reason:** ** int ** and **str** have their own implementations of __add__ method.\n",
    "\n",
    "**Inference:** You can customize magic methods, by overriding them."
   ]
  },
  {
   "cell_type": "code",
   "execution_count": 80,
   "metadata": {},
   "outputs": [
    {
     "name": "stdout",
     "output_type": "stream",
     "text": [
      "3\n"
     ]
    }
   ],
   "source": [
    "print int.__add__(1,2) # Addition"
   ]
  },
  {
   "cell_type": "code",
   "execution_count": 81,
   "metadata": {},
   "outputs": [
    {
     "name": "stdout",
     "output_type": "stream",
     "text": [
      "ab\n"
     ]
    }
   ],
   "source": [
    "print str.__add__('a','b') # Concatination"
   ]
  },
  {
   "cell_type": "code",
   "execution_count": 82,
   "metadata": {
    "collapsed": true
   },
   "outputs": [],
   "source": [
    "# Using magic method in our class\n",
    "# When we add two employees, we should get the sum of their salary."
   ]
  },
  {
   "cell_type": "code",
   "execution_count": 83,
   "metadata": {},
   "outputs": [],
   "source": [
    "# print emp_1 + emp_2\n",
    "\n",
    "# Error because before overriding __add__ method, we cannot add two objects."
   ]
  },
  {
   "cell_type": "code",
   "execution_count": 84,
   "metadata": {
    "collapsed": true
   },
   "outputs": [],
   "source": [
    "class Employee(object):\n",
    "    raise_amount = 1.5\n",
    "    number_of_employees = 0\n",
    "    \n",
    "    def __init__(self, first, last, pay):\n",
    "        self.first = first\n",
    "        self.last = last\n",
    "        self.pay = pay\n",
    "        self.email = first + '.' + last + '@company.com'\n",
    "        Employee.number_of_employees +=1\n",
    "        \n",
    "    def full_name(self):\n",
    "        return \"{} {}\".format(self.first, self.last)  \n",
    "    \n",
    "    def apply_raise(self):\n",
    "        self.pay = self.pay * self.raise_amount\n",
    "        \n",
    "    @classmethod\n",
    "    def get_number_of_employees(cls):\n",
    "        return cls.number_of_employees\n",
    "    \n",
    "    # Return statement format of repr is a convention to keep it similar to RHS of object creation syntax \n",
    "    def __repr__(self):\n",
    "        return \"Employee({}, {}, {})\".format(self.first, self.last, self.pay)\n",
    "    \n",
    "    def __str__(self):\n",
    "        return \"Name: {}, Email: {} \".format(self.full_name(), self.email)\n",
    "    \n",
    "    def __add__(self, other_employee):\n",
    "        return self.pay + other_employee.pay"
   ]
  },
  {
   "cell_type": "code",
   "execution_count": 85,
   "metadata": {
    "collapsed": true
   },
   "outputs": [],
   "source": [
    "emp1 = Employee('Akash', 'Shah', 50000)\n",
    "emp2 = Employee('Abigail', 'Swift', 10000)"
   ]
  },
  {
   "cell_type": "code",
   "execution_count": 86,
   "metadata": {},
   "outputs": [
    {
     "name": "stdout",
     "output_type": "stream",
     "text": [
      "60000\n"
     ]
    }
   ],
   "source": [
    "print emp1 + emp2"
   ]
  },
  {
   "cell_type": "markdown",
   "metadata": {},
   "source": [
    "** Note: **\n",
    "\n",
    "**len()** is also a special method. "
   ]
  },
  {
   "cell_type": "code",
   "execution_count": 87,
   "metadata": {},
   "outputs": [
    {
     "data": {
      "text/plain": [
       "4"
      ]
     },
     "execution_count": 87,
     "metadata": {},
     "output_type": "execute_result"
    }
   ],
   "source": [
    "len('abcd')"
   ]
  },
  {
   "cell_type": "code",
   "execution_count": 88,
   "metadata": {},
   "outputs": [
    {
     "data": {
      "text/plain": [
       "4"
      ]
     },
     "execution_count": 88,
     "metadata": {},
     "output_type": "execute_result"
    }
   ],
   "source": [
    "'abcd'.__len__()"
   ]
  },
  {
   "cell_type": "code",
   "execution_count": 89,
   "metadata": {
    "collapsed": true
   },
   "outputs": [],
   "source": [
    "# Overridding len method"
   ]
  },
  {
   "cell_type": "code",
   "execution_count": 90,
   "metadata": {
    "collapsed": true
   },
   "outputs": [],
   "source": [
    "class Employee(object):\n",
    "    raise_amount = 1.5\n",
    "    number_of_employees = 0\n",
    "    \n",
    "    def __init__(self, first, last, pay):\n",
    "        self.first = first\n",
    "        self.last = last\n",
    "        self.pay = pay\n",
    "        self.email = first + '.' + last + '@company.com'\n",
    "        Employee.number_of_employees +=1\n",
    "        \n",
    "    def full_name(self):\n",
    "        return \"{} {}\".format(self.first, self.last)  \n",
    "    \n",
    "    def apply_raise(self):\n",
    "        self.pay = self.pay * self.raise_amount\n",
    "        \n",
    "    @classmethod\n",
    "    def get_number_of_employees(cls):\n",
    "        return cls.number_of_employees\n",
    "    \n",
    "    # Return statement format of repr is a convention to keep it similar to RHS of object creation syntax \n",
    "    def __repr__(self):\n",
    "        return \"Employee({}, {}, {})\".format(self.first, self.last, self.pay)\n",
    "    \n",
    "    def __str__(self):\n",
    "        return \"Name: {}, Email: {} \".format(self.full_name(), self.email)\n",
    "    \n",
    "    def __add__(self, other_employee):\n",
    "        return self.pay + other_employee.pay\n",
    "    \n",
    "    def __len__(self):\n",
    "        return self.full_name().__len__()"
   ]
  },
  {
   "cell_type": "code",
   "execution_count": 91,
   "metadata": {
    "collapsed": true
   },
   "outputs": [],
   "source": [
    "emp1 = Employee('Akash','Shah', 50000)"
   ]
  },
  {
   "cell_type": "code",
   "execution_count": 92,
   "metadata": {},
   "outputs": [
    {
     "data": {
      "text/plain": [
       "10"
      ]
     },
     "execution_count": 92,
     "metadata": {},
     "output_type": "execute_result"
    }
   ],
   "source": [
    "len(emp1)"
   ]
  },
  {
   "cell_type": "code",
   "execution_count": 93,
   "metadata": {},
   "outputs": [
    {
     "data": {
      "text/plain": [
       "'Akash Shah'"
      ]
     },
     "execution_count": 93,
     "metadata": {},
     "output_type": "execute_result"
    }
   ],
   "source": [
    "emp1.full_name()"
   ]
  },
  {
   "cell_type": "code",
   "execution_count": null,
   "metadata": {
    "collapsed": true
   },
   "outputs": [],
   "source": []
  },
  {
   "cell_type": "markdown",
   "metadata": {},
   "source": [
    "### Property Decorators - Getters, Setters and Deleters"
   ]
  },
  {
   "cell_type": "code",
   "execution_count": 94,
   "metadata": {
    "collapsed": true
   },
   "outputs": [],
   "source": [
    "class Employee(object):\n",
    "    \n",
    "    def __init__(self, first, last):\n",
    "        self.first = first\n",
    "        self.last = last\n",
    "        \n",
    "    def full_name(self):\n",
    "        return \"{} {}\".format(self.first, self.last)  \n",
    "    \n",
    "    @property\n",
    "    def email(self):\n",
    "        return \"{}.{}@company.com\".format(self.first, self.last)  "
   ]
  },
  {
   "cell_type": "markdown",
   "metadata": {},
   "source": [
    "Property Decorators are useful because it helps to access attributes without using getters\n",
    "and setters.\n",
    "\n",
    "- **@property :** is a getter decorator\n",
    "- **@attribute_name.setter :** is a setter decorator\n",
    "- **@attribute_name.deleter :** is a deleter decorator"
   ]
  },
  {
   "cell_type": "code",
   "execution_count": 95,
   "metadata": {
    "collapsed": true
   },
   "outputs": [],
   "source": [
    "emp1 = Employee('Akash','Shah')"
   ]
  },
  {
   "cell_type": "code",
   "execution_count": 96,
   "metadata": {},
   "outputs": [
    {
     "data": {
      "text/plain": [
       "'Akash.Shah@company.com'"
      ]
     },
     "execution_count": 96,
     "metadata": {},
     "output_type": "execute_result"
    }
   ],
   "source": [
    "# Note: We haven't set a field name email in our init method, instead we are using property decorator.\n",
    "emp1.email"
   ]
  },
  {
   "cell_type": "code",
   "execution_count": 97,
   "metadata": {},
   "outputs": [
    {
     "data": {
      "text/plain": [
       "<bound method Employee.full_name of <__main__.Employee object at 0x7f4334511c10>>"
      ]
     },
     "execution_count": 97,
     "metadata": {},
     "output_type": "execute_result"
    }
   ],
   "source": [
    "# Note: full_name is a method\n",
    "emp1.full_name"
   ]
  },
  {
   "cell_type": "code",
   "execution_count": null,
   "metadata": {
    "collapsed": true
   },
   "outputs": [],
   "source": []
  },
  {
   "cell_type": "code",
   "execution_count": 98,
   "metadata": {
    "collapsed": true
   },
   "outputs": [],
   "source": [
    "class Employee(object):\n",
    "    \n",
    "    def __init__(self, first, last):\n",
    "        self.first = first\n",
    "        self.last = last\n",
    "    \n",
    "    @property   \n",
    "    def full_name(self):\n",
    "        return \"{} {}\".format(self.first, self.last)  \n",
    "    \n",
    "    @property\n",
    "    def email(self):\n",
    "        return \"{}.{}@company.com\".format(self.first, self.last)  "
   ]
  },
  {
   "cell_type": "code",
   "execution_count": 99,
   "metadata": {
    "collapsed": true
   },
   "outputs": [],
   "source": [
    "emp1 = Employee('Akash','Shah')"
   ]
  },
  {
   "cell_type": "code",
   "execution_count": 100,
   "metadata": {},
   "outputs": [
    {
     "data": {
      "text/plain": [
       "'Akash Shah'"
      ]
     },
     "execution_count": 100,
     "metadata": {},
     "output_type": "execute_result"
    }
   ],
   "source": [
    "emp1.full_name # full_name can be accessed as an attribute."
   ]
  },
  {
   "cell_type": "code",
   "execution_count": null,
   "metadata": {
    "collapsed": true
   },
   "outputs": [],
   "source": []
  },
  {
   "cell_type": "markdown",
   "metadata": {},
   "source": [
    "#### Setters: "
   ]
  },
  {
   "cell_type": "code",
   "execution_count": 101,
   "metadata": {
    "collapsed": true
   },
   "outputs": [],
   "source": [
    "class Employee(object):\n",
    "    \n",
    "    def __init__(self, first, last):\n",
    "        self.first = first\n",
    "        self.last = last\n",
    "    \n",
    "    @property   \n",
    "    def full_name(self):\n",
    "        return \"{} {}\".format(self.first, self.last)  \n",
    "\n",
    "    @full_name.setter   \n",
    "    def full_name(self, name):\n",
    "        self.first , self.last = name.split(' ')\n",
    "\n",
    "    @property\n",
    "    def email(self):\n",
    "        return \"{}.{}@company.com\".format(self.first, self.last)  "
   ]
  },
  {
   "cell_type": "code",
   "execution_count": 102,
   "metadata": {
    "collapsed": true
   },
   "outputs": [],
   "source": [
    "emp1 = Employee('Akash','Shah')"
   ]
  },
  {
   "cell_type": "code",
   "execution_count": 103,
   "metadata": {
    "collapsed": true
   },
   "outputs": [],
   "source": [
    "emp1.full_name = 'Wayne Rooney'"
   ]
  },
  {
   "cell_type": "code",
   "execution_count": 104,
   "metadata": {},
   "outputs": [
    {
     "name": "stdout",
     "output_type": "stream",
     "text": [
      "Wayne Rooney\n"
     ]
    }
   ],
   "source": [
    "print emp1.full_name"
   ]
  },
  {
   "cell_type": "code",
   "execution_count": null,
   "metadata": {
    "collapsed": true
   },
   "outputs": [],
   "source": []
  },
  {
   "cell_type": "markdown",
   "metadata": {},
   "source": [
    "#### Deleters:"
   ]
  },
  {
   "cell_type": "code",
   "execution_count": 105,
   "metadata": {
    "collapsed": true
   },
   "outputs": [],
   "source": [
    "class Employee(object):\n",
    "    \n",
    "    def __init__(self, first, last):\n",
    "        self.first = first\n",
    "        self.last = last\n",
    "    \n",
    "    @property   \n",
    "    def full_name(self):\n",
    "        return \"{} {}\".format(self.first, self.last)  \n",
    "\n",
    "    @full_name.setter   \n",
    "    def full_name(self, name):\n",
    "        self.first , self.last = name.split(' ')\n",
    "        \n",
    "    @full_name.deleter   \n",
    "    def full_name(self):\n",
    "        self.first = None\n",
    "        self.last = None\n",
    "        print \"Employee Deleted\"\n",
    "\n",
    "    @property\n",
    "    def email(self):\n",
    "        return \"{}.{}@company.com\".format(self.first, self.last)  "
   ]
  },
  {
   "cell_type": "code",
   "execution_count": 106,
   "metadata": {
    "collapsed": true
   },
   "outputs": [],
   "source": [
    "emp1 = Employee('Akash','Shah')"
   ]
  },
  {
   "cell_type": "code",
   "execution_count": 107,
   "metadata": {},
   "outputs": [
    {
     "data": {
      "text/plain": [
       "'Akash Shah'"
      ]
     },
     "execution_count": 107,
     "metadata": {},
     "output_type": "execute_result"
    }
   ],
   "source": [
    "emp1.full_name"
   ]
  },
  {
   "cell_type": "code",
   "execution_count": 108,
   "metadata": {},
   "outputs": [
    {
     "name": "stdout",
     "output_type": "stream",
     "text": [
      "Employee Deleted\n"
     ]
    }
   ],
   "source": [
    "del emp1.full_name"
   ]
  },
  {
   "cell_type": "code",
   "execution_count": 109,
   "metadata": {},
   "outputs": [
    {
     "name": "stdout",
     "output_type": "stream",
     "text": [
      "None None\n"
     ]
    }
   ],
   "source": [
    "print emp1.full_name"
   ]
  },
  {
   "cell_type": "code",
   "execution_count": null,
   "metadata": {
    "collapsed": true
   },
   "outputs": [],
   "source": []
  },
  {
   "cell_type": "markdown",
   "metadata": {
    "collapsed": true
   },
   "source": [
    "### Abstract Classes and Methods"
   ]
  },
  {
   "cell_type": "markdown",
   "metadata": {},
   "source": [
    "Excellent Explanation of Abstraction\n",
    "\n",
    "** https://stackoverflow.com/questions/21220155/what-does-abstraction-mean-in-programming ** \n",
    "\n",
    "** https://docs.python.org/2/library/abc.html **"
   ]
  },
  {
   "cell_type": "markdown",
   "metadata": {},
   "source": [
    "**class abc.ABCMeta**\n",
    "\n",
    "Metaclass for defining Abstract Base Classes (ABCs).\n",
    "\n",
    "Use this metaclass to create an ABC. An ABC can be subclassed directly, and then acts as a mix-in class. You can also register unrelated concrete classes (even built-in classes) and unrelated ABCs as “virtual subclasses” – these and their descendants will be considered subclasses of the registering ABC by the built-in issubclass() function, but the registering ABC won’t show up in their MRO (Method Resolution Order) nor will method implementations defined by the registering ABC be callable (not even via super())\n",
    "\n"
   ]
  },
  {
   "cell_type": "markdown",
   "metadata": {},
   "source": [
    "** abc.abstractmethod(function) **\n",
    "\n",
    "A decorator indicating abstract methods.\n",
    "\n",
    "Using this decorator requires that the class’s metaclass is ABCMeta or is derived from it. A class that has a metaclass derived from ABCMeta cannot be instantiated unless all of its abstract methods and properties are overridden. The abstract methods can be called using any of the normal ‘super’ call mechanisms.\n",
    "\n",
    "Dynamically adding abstract methods to a class, or attempting to modify the abstraction status of a method or class once it is created, are not supported. The abstractmethod() only affects subclasses derived using regular inheritance; “virtual subclasses” registered with the ABC’s register() method are not affected"
   ]
  },
  {
   "cell_type": "code",
   "execution_count": 134,
   "metadata": {},
   "outputs": [],
   "source": [
    "import abc"
   ]
  },
  {
   "cell_type": "code",
   "execution_count": 135,
   "metadata": {},
   "outputs": [],
   "source": [
    "class Shape(object):\n",
    "    __metaclass__ = abc.ABCMeta\n",
    "    def __init__(self):\n",
    "        super(Shape, self).__init__()\n",
    "    \n",
    "    @abc.abstractmethod\n",
    "    def area(self):\n",
    "        pass\n",
    "    \n",
    "    @abc.abstractmethod\n",
    "    def perimeter(self):\n",
    "        pass"
   ]
  },
  {
   "cell_type": "code",
   "execution_count": 136,
   "metadata": {
    "collapsed": true
   },
   "outputs": [],
   "source": [
    "class Square(Shape):\n",
    "    def __init__(self):\n",
    "        super(Square, self).__init__()\n",
    "        self.__side = 0\n",
    "    \n",
    "    @property\n",
    "    def area(self):\n",
    "        return self.__side**2\n",
    "    \n",
    "    @property\n",
    "    \n",
    "    def perimeter(self):\n",
    "        return self.__side * 4\n",
    "    \n",
    "    def set_side(self, side):\n",
    "        self.__side = side\n",
    "    \n",
    "    def get_side(self):\n",
    "        return self.__side"
   ]
  },
  {
   "cell_type": "code",
   "execution_count": 137,
   "metadata": {},
   "outputs": [],
   "source": [
    "square = Square()"
   ]
  },
  {
   "cell_type": "code",
   "execution_count": 138,
   "metadata": {},
   "outputs": [
    {
     "data": {
      "text/plain": [
       "0"
      ]
     },
     "execution_count": 138,
     "metadata": {},
     "output_type": "execute_result"
    }
   ],
   "source": [
    "square.area"
   ]
  },
  {
   "cell_type": "code",
   "execution_count": 139,
   "metadata": {
    "collapsed": true
   },
   "outputs": [],
   "source": [
    "square.set_side(15)"
   ]
  },
  {
   "cell_type": "code",
   "execution_count": 140,
   "metadata": {},
   "outputs": [
    {
     "data": {
      "text/plain": [
       "60"
      ]
     },
     "execution_count": 140,
     "metadata": {},
     "output_type": "execute_result"
    }
   ],
   "source": [
    "square.perimeter"
   ]
  },
  {
   "cell_type": "code",
   "execution_count": 141,
   "metadata": {},
   "outputs": [
    {
     "data": {
      "text/plain": [
       "225"
      ]
     },
     "execution_count": 141,
     "metadata": {},
     "output_type": "execute_result"
    }
   ],
   "source": [
    "square.area"
   ]
  },
  {
   "cell_type": "markdown",
   "metadata": {
    "collapsed": true
   },
   "source": [
    "#### Another Way Of Abstraction"
   ]
  },
  {
   "cell_type": "code",
   "execution_count": 150,
   "metadata": {
    "collapsed": true
   },
   "outputs": [],
   "source": [
    "class B(object):\n",
    "    def __init__(self):\n",
    "        super(B, self).__init__()\n",
    "        \n",
    "    def test(self):\n",
    "        raise NotImplementedError(\"Please Implement this method\")"
   ]
  },
  {
   "cell_type": "code",
   "execution_count": 151,
   "metadata": {
    "collapsed": true
   },
   "outputs": [],
   "source": [
    "class C(B):\n",
    "    def __init__(self):\n",
    "        super(C, self).__init__()\n",
    "    \n",
    "    def test(self):\n",
    "        print \"Implemented\""
   ]
  },
  {
   "cell_type": "code",
   "execution_count": 152,
   "metadata": {
    "collapsed": true
   },
   "outputs": [],
   "source": [
    "c = C()"
   ]
  },
  {
   "cell_type": "code",
   "execution_count": 153,
   "metadata": {},
   "outputs": [
    {
     "name": "stdout",
     "output_type": "stream",
     "text": [
      "Implemented\n"
     ]
    }
   ],
   "source": [
    "c.test()"
   ]
  },
  {
   "cell_type": "markdown",
   "metadata": {},
   "source": [
    "** Note **:  If we don't override test method in C, and try to access it, we will get NotImplementedError, because base class is designed in such a way that, sub-class cannot access it. Hence, it has to be overridden. "
   ]
  },
  {
   "cell_type": "code",
   "execution_count": null,
   "metadata": {
    "collapsed": true
   },
   "outputs": [],
   "source": []
  },
  {
   "cell_type": "code",
   "execution_count": null,
   "metadata": {
    "collapsed": true
   },
   "outputs": [],
   "source": []
  },
  {
   "cell_type": "code",
   "execution_count": null,
   "metadata": {
    "collapsed": true
   },
   "outputs": [],
   "source": []
  }
 ],
 "metadata": {
  "kernelspec": {
   "display_name": "Python 2",
   "language": "python",
   "name": "python2"
  },
  "language_info": {
   "codemirror_mode": {
    "name": "ipython",
    "version": 2
   },
   "file_extension": ".py",
   "mimetype": "text/x-python",
   "name": "python",
   "nbconvert_exporter": "python",
   "pygments_lexer": "ipython2",
   "version": "2.7.13"
  }
 },
 "nbformat": 4,
 "nbformat_minor": 2
}
