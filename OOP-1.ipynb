{
 "cells": [
  {
   "cell_type": "markdown",
   "metadata": {},
   "source": [
    "### Topics to be covered: \n",
    "\n",
    "- **Self** variable\n",
    "- Ways of calling a method\n",
    "- Class Variables\n",
    "- Class Methods\n",
    "- Static Methods\n",
    "- Encapsulation\n",
    "- Data Abstraction\n",
    "- Polymorphism\n",
    "- Inheritance"
   ]
  },
  {
   "cell_type": "code",
   "execution_count": 7,
   "metadata": {
    "collapsed": true
   },
   "outputs": [],
   "source": [
    "class Employee:\n",
    "    def __init__(self, first, last, pay):\n",
    "        self.first = first\n",
    "        self.last = last\n",
    "        self.pay = pay\n",
    "        self.email = first + '.' + last + '@company.com'\n",
    "        \n",
    "    def full_name(self):\n",
    "      return \"Name: {0} {1}, Email: {2} and Pay: {3}\".format(self.first, self.last, self.email, self.pay)  "
   ]
  },
  {
   "cell_type": "code",
   "execution_count": 8,
   "metadata": {},
   "outputs": [
    {
     "name": "stdout",
     "output_type": "stream",
     "text": [
      "Name: sam johnson, Email: sam.johnson@company.com and Pay: 50000\n"
     ]
    }
   ],
   "source": [
    "emp_1 = Employee('sam','johnson',50000)\n",
    "print emp_1.full_name()"
   ]
  },
  {
   "cell_type": "markdown",
   "metadata": {},
   "source": [
    "### Concept of *self* in python"
   ]
  },
  {
   "cell_type": "markdown",
   "metadata": {},
   "source": [
    "``` self is not a keyword in python, it is the object itself. It is used to call a method within a class or access an instance variable. ```\n",
    "\n",
    "``` It is similar to this.attribute_name = attribute_name in java, where this represents the current object.```"
   ]
  },
  {
   "cell_type": "markdown",
   "metadata": {},
   "source": [
    "### Two ways of calling a method"
   ]
  },
  {
   "cell_type": "code",
   "execution_count": 9,
   "metadata": {},
   "outputs": [
    {
     "name": "stdout",
     "output_type": "stream",
     "text": [
      "Name: sam johnson, Email: sam.johnson@company.com and Pay: 50000\n",
      "Name: sam johnson, Email: sam.johnson@company.com and Pay: 50000\n"
     ]
    }
   ],
   "source": [
    "print emp_1.full_name()\n",
    "print Employee.full_name(emp_1)"
   ]
  },
  {
   "cell_type": "markdown",
   "metadata": {},
   "source": [
    "#### Note: \n",
    "\n",
    "Internally, python converts **emp_1.full_name()** method call into **Employee.full_name(emp_1)** form.\n",
    "\n",
    "The first way automatically passes the object(emp_1) to the method, whereas in the second way, we need to manually pass it.\n",
    "\n",
    "Hence, we use **self** keyword as first argument in the method, to receive the object from the method call(emp_1), since internally python uses second form for calling a method."
   ]
  },
  {
   "cell_type": "code",
   "execution_count": null,
   "metadata": {
    "collapsed": true
   },
   "outputs": [],
   "source": []
  },
  {
   "cell_type": "markdown",
   "metadata": {},
   "source": [
    "### Class Variables"
   ]
  },
  {
   "cell_type": "code",
   "execution_count": 39,
   "metadata": {},
   "outputs": [],
   "source": [
    "class Employee:\n",
    "    raise_amount = 1.5\n",
    "    number_of_employees = 0\n",
    "    \n",
    "    def __init__(self, first, last, pay):\n",
    "        self.first = first\n",
    "        self.last = last\n",
    "        self.pay = pay\n",
    "        self.email = first + '.' + last + '@company.com'\n",
    "        Employee.number_of_employees +=1\n",
    "        \n",
    "    def full_name(self):\n",
    "      return \"Name: {0} {1}, Email: {2} and Pay: {3}\".format(self.first, self.last, self.email, self.pay)  \n",
    "    \n",
    "    def apply_raise(self):\n",
    "        self.pay = self.pay * raise_amount"
   ]
  },
  {
   "cell_type": "code",
   "execution_count": 34,
   "metadata": {
    "collapsed": true
   },
   "outputs": [],
   "source": [
    "emp_1 = Employee('Sam','Johnson',50000)\n",
    "emp_2 = Employee('Wayne','Rooney',100000)"
   ]
  },
  {
   "cell_type": "code",
   "execution_count": 13,
   "metadata": {},
   "outputs": [
    {
     "name": "stdout",
     "output_type": "stream",
     "text": [
      "{'pay': 50000, 'last': 'Johnson', 'email': 'Sam.Johnson@company.com', 'first': 'Sam'}\n"
     ]
    }
   ],
   "source": [
    "# Check the scope of employee objects\n",
    "print emp_1.__dict__\n",
    "\n",
    "# Since raise_amount variable isn't present, hence it's a class variable"
   ]
  },
  {
   "cell_type": "code",
   "execution_count": 14,
   "metadata": {},
   "outputs": [
    {
     "name": "stdout",
     "output_type": "stream",
     "text": [
      "{'__module__': '__main__', '__init__': <function __init__ at 0x7f5a9c5ac140>, 'full_name': <function full_name at 0x7f5a9c5ac1b8>, 'raise_amount': 1.5, '__doc__': None, 'apply_raise': <function apply_raise at 0x7f5a9c5ac230>}\n"
     ]
    }
   ],
   "source": [
    "print Employee.__dict__\n",
    "\n",
    "# Proves raise_amount is a class variable"
   ]
  },
  {
   "cell_type": "code",
   "execution_count": 16,
   "metadata": {},
   "outputs": [
    {
     "name": "stdout",
     "output_type": "stream",
     "text": [
      "1.5\n",
      "1.5\n"
     ]
    }
   ],
   "source": [
    "print emp_1.raise_amount\n",
    "print emp_2.raise_amount"
   ]
  },
  {
   "cell_type": "code",
   "execution_count": 64,
   "metadata": {},
   "outputs": [
    {
     "name": "stdout",
     "output_type": "stream",
     "text": [
      "Help on class Employee in module __main__:\n",
      "\n",
      "class Employee\n",
      " |  Methods defined here:\n",
      " |  \n",
      " |  __init__(self, first, last, pay)\n",
      " |  \n",
      " |  apply_raise(self)\n",
      " |  \n",
      " |  full_name(self)\n",
      " |  \n",
      " |  ----------------------------------------------------------------------\n",
      " |  Class methods defined here:\n",
      " |  \n",
      " |  get_number_of_employees(cls) from __builtin__.classobj\n",
      " |  \n",
      " |  ----------------------------------------------------------------------\n",
      " |  Data and other attributes defined here:\n",
      " |  \n",
      " |  number_of_employees = 1\n",
      " |  \n",
      " |  raise_amount = 1.5\n",
      "\n",
      "None\n"
     ]
    }
   ],
   "source": [
    "print help(Employee)"
   ]
  },
  {
   "cell_type": "markdown",
   "metadata": {},
   "source": [
    "#### Note: \n",
    "\n",
    "An object can access variables from these locations:\n",
    "- Instance Variables\n",
    "- Class Variables\n",
    "- Variables of Base Class\n",
    "- Variables from object Class\n",
    "\n",
    "We are able to access raise_amount variable from objects because internally python checks if raise_amount is an instance variable, if it's not, then it checks whether it is a class variable, which it is, hence objects can access the class variables.\n",
    "\n",
    "Objects can also access variables from the base class, i.e the parent class of the current class.\n",
    "\n",
    "This is called method resolution order.\n",
    "\n",
    "Use print **help(classname) ** for more information."
   ]
  },
  {
   "cell_type": "markdown",
   "metadata": {},
   "source": [
    "#### Modifying a Class Variable using an Object"
   ]
  },
  {
   "cell_type": "code",
   "execution_count": 17,
   "metadata": {},
   "outputs": [
    {
     "name": "stdout",
     "output_type": "stream",
     "text": [
      "1.5\n",
      "1.5\n",
      "1.5\n"
     ]
    }
   ],
   "source": [
    "print emp_1.raise_amount\n",
    "print emp_2.raise_amount\n",
    "print Employee.raise_amount"
   ]
  },
  {
   "cell_type": "code",
   "execution_count": 18,
   "metadata": {
    "collapsed": true
   },
   "outputs": [],
   "source": [
    "emp_1.raise_amount = 2"
   ]
  },
  {
   "cell_type": "code",
   "execution_count": 19,
   "metadata": {},
   "outputs": [
    {
     "name": "stdout",
     "output_type": "stream",
     "text": [
      "2\n",
      "1.5\n",
      "1.5\n"
     ]
    }
   ],
   "source": [
    "print emp_1.raise_amount\n",
    "print emp_2.raise_amount\n",
    "print Employee.raise_amount"
   ]
  },
  {
   "cell_type": "markdown",
   "metadata": {},
   "source": [
    "### Important\n",
    "#### Why did raise_amount value changed only for emp_1?\n",
    "\n",
    "That's because python first created an instance variable(raise_amount) for emp_1 and then updated it.\n",
    "\n",
    "Other objects still access the class variable."
   ]
  },
  {
   "cell_type": "code",
   "execution_count": 20,
   "metadata": {},
   "outputs": [
    {
     "name": "stdout",
     "output_type": "stream",
     "text": [
      "{'pay': 50000, 'raise_amount': 2, 'last': 'Johnson', 'email': 'Sam.Johnson@company.com', 'first': 'Sam'}\n"
     ]
    }
   ],
   "source": [
    "print emp_1.__dict__"
   ]
  },
  {
   "cell_type": "code",
   "execution_count": 21,
   "metadata": {},
   "outputs": [
    {
     "name": "stdout",
     "output_type": "stream",
     "text": [
      "{'pay': 100000, 'last': 'Rooney', 'email': 'Wayne.Rooney@company.com', 'first': 'Wayne'}\n"
     ]
    }
   ],
   "source": [
    "print emp_2.__dict__"
   ]
  },
  {
   "cell_type": "code",
   "execution_count": null,
   "metadata": {
    "collapsed": true
   },
   "outputs": [],
   "source": [
    "# Notice the difference in the above two statements."
   ]
  },
  {
   "cell_type": "code",
   "execution_count": null,
   "metadata": {
    "collapsed": true
   },
   "outputs": [],
   "source": []
  },
  {
   "cell_type": "markdown",
   "metadata": {},
   "source": [
    "### Class Methods"
   ]
  },
  {
   "cell_type": "code",
   "execution_count": 40,
   "metadata": {
    "collapsed": true
   },
   "outputs": [],
   "source": [
    "class Employee:\n",
    "    raise_amount = 1.5\n",
    "    number_of_employees = 0\n",
    "    \n",
    "    def __init__(self, first, last, pay):\n",
    "        self.first = first\n",
    "        self.last = last\n",
    "        self.pay = pay\n",
    "        self.email = first + '.' + last + '@company.com'\n",
    "        Employee.number_of_employees +=1\n",
    "        \n",
    "    def full_name(self):\n",
    "      return \"Name: {0} {1}, Email: {2} and Pay: {3}\".format(self.first, self.last, self.email, self.pay)  \n",
    "    \n",
    "    def apply_raise(self):\n",
    "        self.pay = self.pay * raise_amount\n",
    "        \n",
    "    @classmethod\n",
    "    def get_number_of_employees(cls):\n",
    "        return cls.number_of_employees\n",
    "    \n",
    "    @classmethod\n",
    "    def set_raise_amount(cls,amount):\n",
    "        cls.raise_amount = amount"
   ]
  },
  {
   "cell_type": "markdown",
   "metadata": {},
   "source": [
    "#### Note: \n",
    "\n",
    "** cls ** is a notation used for class methods.\n",
    "#### Note: \n",
    "\n",
    "** cls ** is a notation used for class methods.\n",
    "\n",
    "** self ** is a notation used for traditional methods.\n",
    "\n",
    "** @classmethod ** decorator should be used to describe a method as class method, along with **cls**.\n",
    "** self ** is a notation used for traditional methods.\n",
    "\n",
    "** @classmethod ** decorator should be used to describe a method as class method, along with **cls**."
   ]
  },
  {
   "cell_type": "code",
   "execution_count": 41,
   "metadata": {
    "collapsed": true
   },
   "outputs": [],
   "source": [
    "emp_1 = Employee('Sam','Johnson',50000)\n",
    "emp_2 = Employee('Wayne','Rooney',100000)"
   ]
  },
  {
   "cell_type": "code",
   "execution_count": 42,
   "metadata": {},
   "outputs": [
    {
     "name": "stdout",
     "output_type": "stream",
     "text": [
      "2\n"
     ]
    }
   ],
   "source": [
    "print Employee.get_number_of_employees()"
   ]
  },
  {
   "cell_type": "code",
   "execution_count": 43,
   "metadata": {},
   "outputs": [
    {
     "name": "stdout",
     "output_type": "stream",
     "text": [
      "1.5\n",
      "1.5\n",
      "1.5\n"
     ]
    }
   ],
   "source": [
    "print emp_1.raise_amount\n",
    "print emp_2.raise_amount\n",
    "print Employee.raise_amount"
   ]
  },
  {
   "cell_type": "code",
   "execution_count": 44,
   "metadata": {
    "collapsed": true
   },
   "outputs": [],
   "source": [
    "# Changes raise_amount variable to 1.6 at class level.\n",
    "Employee.set_raise_amount(1.6)"
   ]
  },
  {
   "cell_type": "code",
   "execution_count": 45,
   "metadata": {},
   "outputs": [
    {
     "name": "stdout",
     "output_type": "stream",
     "text": [
      "1.6\n",
      "1.6\n",
      "1.6\n"
     ]
    }
   ],
   "source": [
    "print emp_1.raise_amount\n",
    "print emp_2.raise_amount\n",
    "print Employee.raise_amount"
   ]
  },
  {
   "cell_type": "code",
   "execution_count": 47,
   "metadata": {},
   "outputs": [
    {
     "name": "stdout",
     "output_type": "stream",
     "text": [
      "1.4\n"
     ]
    }
   ],
   "source": [
    "# You can even call set_raise_amount method using an instance\n",
    "\n",
    "emp_1.set_raise_amount(1.4)\n",
    "print emp_1.raise_amount\n",
    "\n",
    "# It changes the raise_amount variable at class level."
   ]
  },
  {
   "cell_type": "code",
   "execution_count": 48,
   "metadata": {},
   "outputs": [
    {
     "name": "stdout",
     "output_type": "stream",
     "text": [
      "{'pay': 50000, 'last': 'Johnson', 'email': 'Sam.Johnson@company.com', 'first': 'Sam'}\n"
     ]
    }
   ],
   "source": [
    "print emp_1.__dict__"
   ]
  },
  {
   "cell_type": "code",
   "execution_count": 49,
   "metadata": {},
   "outputs": [
    {
     "name": "stdout",
     "output_type": "stream",
     "text": [
      "1.4\n"
     ]
    }
   ],
   "source": [
    "print emp_2.raise_amount"
   ]
  },
  {
   "cell_type": "code",
   "execution_count": null,
   "metadata": {
    "collapsed": true
   },
   "outputs": [],
   "source": []
  },
  {
   "cell_type": "markdown",
   "metadata": {},
   "source": [
    "### Using Class Methods as Alternative Constructors\n",
    "\n",
    "Instantiating new objects in class method, dynamically."
   ]
  },
  {
   "cell_type": "code",
   "execution_count": 56,
   "metadata": {
    "collapsed": true
   },
   "outputs": [],
   "source": [
    "class Employee:\n",
    "    raise_amount = 1.5\n",
    "    number_of_employees = 0\n",
    "    \n",
    "    def __init__(self, first, last, pay):\n",
    "        self.first = first\n",
    "        self.last = last\n",
    "        self.pay = pay\n",
    "        self.email = first + '.' + last + '@company.com'\n",
    "        Employee.number_of_employees +=1\n",
    "        \n",
    "    def full_name(self):\n",
    "      return \"Name: {0} {1}, Email: {2} and Pay: {3}\".format(self.first, self.last, self.email, self.pay)  \n",
    "    \n",
    "    def apply_raise(self):\n",
    "        self.pay = self.pay * raise_amount\n",
    "        \n",
    "    @classmethod\n",
    "    def get_number_of_employees(cls):\n",
    "        return cls.number_of_employees\n",
    "    \n",
    "    @classmethod\n",
    "    def set_raise_amount(cls,amount):\n",
    "        cls.raise_amount = amount\n",
    "\n",
    "# Additional Constructor\n",
    "    @classmethod\n",
    "    def from_string(cls, emp_string):\n",
    "        \"\"\" Constructs a new Employee Object from the data given.\"\"\"\n",
    "        first, last, pay = emp_string.split('-')\n",
    "        return cls(first, last, pay)"
   ]
  },
  {
   "cell_type": "code",
   "execution_count": 51,
   "metadata": {
    "collapsed": true
   },
   "outputs": [],
   "source": [
    "emp_string_1 = 'John-Doe-3000'\n",
    "emp_string_2 = 'Tom-Hanks-300000'\n",
    "emp_string_3 = 'Henry-Gayle-30000'"
   ]
  },
  {
   "cell_type": "code",
   "execution_count": 55,
   "metadata": {},
   "outputs": [
    {
     "name": "stdout",
     "output_type": "stream",
     "text": [
      "<__main__.Employee instance at 0x7f5a98112368>\n",
      "Tom Hanks\n"
     ]
    }
   ],
   "source": [
    "new_emp_2 = Employee.from_string(emp_string_2)\n",
    "print new_emp_2\n",
    "# New Instance of Employee Class\n",
    "\n",
    "print new_emp_2.first, new_emp_2.last"
   ]
  },
  {
   "cell_type": "code",
   "execution_count": null,
   "metadata": {
    "collapsed": true
   },
   "outputs": [],
   "source": []
  },
  {
   "cell_type": "markdown",
   "metadata": {},
   "source": [
    "### Static Methods"
   ]
  },
  {
   "cell_type": "markdown",
   "metadata": {},
   "source": [
    "Static methods **doesn't** contain any **keyword** (neither self nor cls)."
   ]
  },
  {
   "cell_type": "markdown",
   "metadata": {},
   "source": [
    "#### Note: \n",
    "\n",
    "- ** cls ** is a notation used for class methods.\n",
    "\n",
    "- ** self ** is a notation used for traditional methods.\n",
    "\n",
    "- ** There's NO such notation ** for static methods.\n",
    "\n",
    "** @staticmethod ** decorator should be used to describe a method as static method."
   ]
  },
  {
   "cell_type": "code",
   "execution_count": null,
   "metadata": {
    "collapsed": true
   },
   "outputs": [],
   "source": [
    "## Check whether a given day is a weekday or not"
   ]
  },
  {
   "cell_type": "code",
   "execution_count": 57,
   "metadata": {
    "collapsed": true
   },
   "outputs": [],
   "source": [
    "class Employee:\n",
    "    @staticmethod\n",
    "    def check_day(day):\n",
    "        if((day.weekday() == 5) or (day.weekday() == 6)):\n",
    "            return False\n",
    "        else:\n",
    "            return True"
   ]
  },
  {
   "cell_type": "code",
   "execution_count": 58,
   "metadata": {
    "collapsed": true
   },
   "outputs": [],
   "source": [
    "import datetime"
   ]
  },
  {
   "cell_type": "code",
   "execution_count": 59,
   "metadata": {},
   "outputs": [
    {
     "name": "stdout",
     "output_type": "stream",
     "text": [
      "True\n"
     ]
    }
   ],
   "source": [
    "day = datetime.date(2017,5,26)\n",
    "print Employee.check_day(day)"
   ]
  },
  {
   "cell_type": "markdown",
   "metadata": {},
   "source": [
    "### When to use which type of method?"
   ]
  },
  {
   "cell_type": "markdown",
   "metadata": {},
   "source": [
    "### Static Methods:\n",
    "\n",
    "Static methods have limited use, since they don't have access to attributes of any instance of a class(like a regular method does) and they don't have access to attributes of class as well.\n",
    "\n",
    "They can be used in situations when some operations need to be performed without accessing any attributes.\n",
    "\n",
    "For example a simple conversion from one type to another, where user provides the input data.\n",
    "\n",
    "** Advantages of using static methods: ** \n",
    "\n",
    "- Eliminates use of self argument.\n",
    "- Reduces memory usage because Python doesn't have to instantiate a bound-method for each instantiated object.\n",
    "- Improves code readability, signifying that the method doesn't depend on the state of object itself.\n",
    "- Allows method overriding in that if the method were defined at the module level(i.e outside the class) then a subclass wouldn't be able to override that method.\n",
    "\n",
    "\n",
    "### Class Methods:\n",
    "\n",
    "Class Methods are useful when you need to have methods that aren't specific to any particular instance, but still involve class in some way.\n",
    "\n",
    "They **can be overridden ** by sub-classes.\n",
    "\n",
    "\n",
    "Factory methods(alternative constructors) are indeed classic examples of class methods.(**from_string** method defined above)."
   ]
  },
  {
   "cell_type": "code",
   "execution_count": null,
   "metadata": {
    "collapsed": true
   },
   "outputs": [],
   "source": []
  },
  {
   "cell_type": "markdown",
   "metadata": {},
   "source": [
    "## Inheritance"
   ]
  },
  {
   "cell_type": "code",
   "execution_count": 120,
   "metadata": {
    "collapsed": true
   },
   "outputs": [],
   "source": [
    "class Employee:\n",
    "    raise_amount = 1.5\n",
    "    number_of_employees = 0\n",
    "    \n",
    "    def __init__(self, first, last, pay):\n",
    "        self.first = first\n",
    "        self.last = last\n",
    "        self.pay = pay\n",
    "        self.email = first + '.' + last + '@company.com'\n",
    "        Employee.number_of_employees +=1\n",
    "        \n",
    "    def full_name(self):\n",
    "      return \"Name: {0} {1}, Email: {2} and Pay: {3}\".format(self.first, self.last, self.email, self.pay)  \n",
    "    \n",
    "    def apply_raise(self):\n",
    "        self.pay = self.pay * self.raise_amount\n",
    "        \n",
    "    @classmethod\n",
    "    def get_number_of_employees(cls):\n",
    "        return cls.number_of_employees"
   ]
  },
  {
   "cell_type": "code",
   "execution_count": 121,
   "metadata": {
    "collapsed": true
   },
   "outputs": [],
   "source": [
    "class Developer(Employee):\n",
    "    raise_amount = 1.10"
   ]
  },
  {
   "cell_type": "code",
   "execution_count": 122,
   "metadata": {
    "collapsed": true
   },
   "outputs": [],
   "source": [
    "class Tester(Employee):\n",
    "    pass"
   ]
  },
  {
   "cell_type": "code",
   "execution_count": 123,
   "metadata": {},
   "outputs": [
    {
     "name": "stdout",
     "output_type": "stream",
     "text": [
      "Name: Akash Shah, Email: Akash.Shah@company.com and Pay: 50000\n"
     ]
    }
   ],
   "source": [
    "dev_1 = Developer('Akash','Shah',50000)\n",
    "tester_1 = Developer('Sam','Cook',5000)\n",
    "\n",
    "print dev_1.full_name()"
   ]
  },
  {
   "cell_type": "code",
   "execution_count": 102,
   "metadata": {},
   "outputs": [],
   "source": [
    "#print help(Developer)"
   ]
  },
  {
   "cell_type": "code",
   "execution_count": 124,
   "metadata": {},
   "outputs": [
    {
     "name": "stdout",
     "output_type": "stream",
     "text": [
      "50000\n",
      "55000.0\n"
     ]
    }
   ],
   "source": [
    "print dev_1.pay\n",
    "dev_1.apply_raise()\n",
    "print dev_1.pay"
   ]
  },
  {
   "cell_type": "code",
   "execution_count": 125,
   "metadata": {},
   "outputs": [
    {
     "name": "stdout",
     "output_type": "stream",
     "text": [
      "1.1\n",
      "5000\n",
      "5500.0\n"
     ]
    }
   ],
   "source": [
    "print tester_1.raise_amount\n",
    "print tester_1.pay\n",
    "tester_1.apply_raise()\n",
    "print tester_1.pay"
   ]
  },
  {
   "cell_type": "markdown",
   "metadata": {},
   "source": [
    "#### Adding more attributes to Developer Class."
   ]
  },
  {
   "cell_type": "code",
   "execution_count": 131,
   "metadata": {
    "collapsed": true
   },
   "outputs": [],
   "source": [
    "class Developer(Employee):\n",
    "    \n",
    "    def __init__(self, first, last, pay, prog_lang):\n",
    "        super().__init__(first, last, pay)                \n",
    "        self.prog_lang = prog_lang\n",
    "        # Employee().__init__(self, first, last, pay)\n"
   ]
  },
  {
   "cell_type": "markdown",
   "metadata": {},
   "source": [
    "``` super().__init__(first, last, pay) let's the parent class init method initialize common attributes  ```"
   ]
  },
  {
   "cell_type": "code",
   "execution_count": 132,
   "metadata": {},
   "outputs": [
    {
     "ename": "TypeError",
     "evalue": "super() takes at least 1 argument (0 given)",
     "output_type": "error",
     "traceback": [
      "\u001b[0;31m---------------------------------------------------------------------------\u001b[0m",
      "\u001b[0;31mTypeError\u001b[0m                                 Traceback (most recent call last)",
      "\u001b[0;32m<ipython-input-132-9b141620eb8f>\u001b[0m in \u001b[0;36m<module>\u001b[0;34m()\u001b[0m\n\u001b[0;32m----> 1\u001b[0;31m \u001b[0mdev_1\u001b[0m \u001b[0;34m=\u001b[0m \u001b[0mDeveloper\u001b[0m\u001b[0;34m(\u001b[0m\u001b[0;34m'Akash'\u001b[0m\u001b[0;34m,\u001b[0m\u001b[0;34m'Shah'\u001b[0m\u001b[0;34m,\u001b[0m\u001b[0;36m50000\u001b[0m\u001b[0;34m,\u001b[0m\u001b[0;34m'Python'\u001b[0m\u001b[0;34m)\u001b[0m\u001b[0;34m\u001b[0m\u001b[0m\n\u001b[0m",
      "\u001b[0;32m<ipython-input-131-5d75d79d8b63>\u001b[0m in \u001b[0;36m__init__\u001b[0;34m(self, first, last, pay, prog_lang)\u001b[0m\n\u001b[1;32m      2\u001b[0m \u001b[0;34m\u001b[0m\u001b[0m\n\u001b[1;32m      3\u001b[0m     \u001b[0;32mdef\u001b[0m \u001b[0m__init__\u001b[0m\u001b[0;34m(\u001b[0m\u001b[0mself\u001b[0m\u001b[0;34m,\u001b[0m \u001b[0mfirst\u001b[0m\u001b[0;34m,\u001b[0m \u001b[0mlast\u001b[0m\u001b[0;34m,\u001b[0m \u001b[0mpay\u001b[0m\u001b[0;34m,\u001b[0m \u001b[0mprog_lang\u001b[0m\u001b[0;34m)\u001b[0m\u001b[0;34m:\u001b[0m\u001b[0;34m\u001b[0m\u001b[0m\n\u001b[0;32m----> 4\u001b[0;31m         \u001b[0msuper\u001b[0m\u001b[0;34m(\u001b[0m\u001b[0;34m)\u001b[0m\u001b[0;34m.\u001b[0m\u001b[0m__init__\u001b[0m\u001b[0;34m(\u001b[0m\u001b[0mfirst\u001b[0m\u001b[0;34m,\u001b[0m \u001b[0mlast\u001b[0m\u001b[0;34m,\u001b[0m \u001b[0mpay\u001b[0m\u001b[0;34m)\u001b[0m\u001b[0;34m\u001b[0m\u001b[0m\n\u001b[0m\u001b[1;32m      5\u001b[0m         \u001b[0mself\u001b[0m\u001b[0;34m.\u001b[0m\u001b[0mprog_lang\u001b[0m \u001b[0;34m=\u001b[0m \u001b[0mprog_lang\u001b[0m\u001b[0;34m\u001b[0m\u001b[0m\n\u001b[1;32m      6\u001b[0m         \u001b[0;31m# Employee().__init__(self, first, last, pay)\u001b[0m\u001b[0;34m\u001b[0m\u001b[0;34m\u001b[0m\u001b[0m\n",
      "\u001b[0;31mTypeError\u001b[0m: super() takes at least 1 argument (0 given)"
     ]
    }
   ],
   "source": [
    "dev_1 = Developer('Akash','Shah',50000,'Python')"
   ]
  },
  {
   "cell_type": "code",
   "execution_count": null,
   "metadata": {
    "collapsed": true
   },
   "outputs": [],
   "source": []
  },
  {
   "cell_type": "code",
   "execution_count": null,
   "metadata": {
    "collapsed": true
   },
   "outputs": [],
   "source": []
  },
  {
   "cell_type": "code",
   "execution_count": null,
   "metadata": {
    "collapsed": true
   },
   "outputs": [],
   "source": []
  },
  {
   "cell_type": "code",
   "execution_count": null,
   "metadata": {
    "collapsed": true
   },
   "outputs": [],
   "source": []
  },
  {
   "cell_type": "code",
   "execution_count": null,
   "metadata": {
    "collapsed": true
   },
   "outputs": [],
   "source": []
  }
 ],
 "metadata": {
  "kernelspec": {
   "display_name": "Python 2",
   "language": "python",
   "name": "python2"
  },
  "language_info": {
   "codemirror_mode": {
    "name": "ipython",
    "version": 2
   },
   "file_extension": ".py",
   "mimetype": "text/x-python",
   "name": "python",
   "nbconvert_exporter": "python",
   "pygments_lexer": "ipython2",
   "version": "2.7.13"
  }
 },
 "nbformat": 4,
 "nbformat_minor": 2
}
