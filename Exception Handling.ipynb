{
 "cells": [
  {
   "cell_type": "markdown",
   "metadata": {},
   "source": [
    "### Exception Handling\n",
    "\n",
    "#### What are exceptions?"
   ]
  },
  {
   "cell_type": "markdown",
   "metadata": {},
   "source": [
    "An exception is an error that happens during execution of a program. When that\n",
    "error occurs, Python generates an exception that can be handled, which avoids your\n",
    "program to crash."
   ]
  },
  {
   "cell_type": "markdown",
   "metadata": {},
   "source": [
    "#### Why use exceptions?\n",
    "\n",
    "Exceptions Handling is useful to display a meaningful message to the user, instead of printing the entire stack trace. It also helps to hide the detailed message python throws when an exception occurs.\n",
    "\n",
    "When you think that you have a code which can produce an error then\n",
    "you can use exception handling."
   ]
  },
  {
   "cell_type": "markdown",
   "metadata": {},
   "source": [
    "#### Raising an exception\n",
    "\n",
    "You can raise an exception in your own program by using the **raise** exception\n",
    "statement.\n",
    "\n",
    "Raising an exception breaks current code execution and returns the control to that particular exception block."
   ]
  },
  {
   "cell_type": "markdown",
   "metadata": {},
   "source": [
    "#### Some of the exceptions\n",
    "\n",
    "- **IOError** : If the file cannot be opened.\n",
    "\n",
    "\n",
    "- **ImportError** : If python cannot find the module\n",
    "\n",
    "\n",
    "- **ValueError** : Raised when a built-in operation or function receives an argument that has the right type but an inappropriate value\n",
    "\n",
    "\n",
    "- **KeyboardInterrupt** : Raised when the user hits the interrupt key (normally Control-C or Delete)\n",
    "\n",
    "\n",
    "- **EOFError** : Raised when one of the built-in functions (input() or raw_input()) hits an\n",
    "end-of-file condition (EOF) without reading any data"
   ]
  },
  {
   "cell_type": "markdown",
   "metadata": {},
   "source": [
    "### Syntax: \n",
    "    \n",
    "**try**:\n",
    "    \n",
    "   // Lines of Code that can potentially raise an exception\n",
    "\n",
    "**except ImportError as e**:\n",
    "    \n",
    "   // Handle the exception\n",
    "\n",
    "**except ValueError as e**:\n",
    "    \n",
    "   // Handle the exception\n",
    "\n",
    "**except Exception as e**:\n",
    "    \n",
    "   // Handle the exception\n",
    "    \n",
    "**else**:\n",
    "    \n",
    "   // Block of code that will execute if try block doesn't throw any exception.\n",
    "\n",
    "**finally:**\n",
    "\n",
    "   // Block of code that will definitely execute, irrespective of whether exception is raised or not."
   ]
  },
  {
   "cell_type": "markdown",
   "metadata": {},
   "source": [
    "**Note:**\n",
    "\n",
    "The general exception block (Exception as e), should be placed **after** all the specific Exceptions, **not before** it."
   ]
  },
  {
   "cell_type": "markdown",
   "metadata": {},
   "source": [
    "### Example 1:"
   ]
  },
  {
   "cell_type": "code",
   "execution_count": 1,
   "metadata": {},
   "outputs": [
    {
     "name": "stdout",
     "output_type": "stream",
     "text": [
      "Enter first number\n",
      "You didn't enter a number. Error:  invalid literal for int() with base 10: ''\n",
      "Inside Finally Block\n"
     ]
    }
   ],
   "source": [
    "# Division of two numbers\n",
    "result = 0\n",
    "try:\n",
    "    a = int(raw_input('Enter first number'))\n",
    "    b = int(raw_input('Enter second number'))\n",
    "    result = a/b;\n",
    "\n",
    "except ValueError as e:\n",
    "    print \"You didn't enter a number. Error: \", e\n",
    "    \n",
    "except ZeroDivisionError as e:\n",
    "    print \"Cannot divide any number by 0\"\n",
    "    \n",
    "except Exception as e:\n",
    "    print e\n",
    "\n",
    "else:\n",
    "    print \"Quotient is {}\".format(result)\n",
    "\n",
    "finally:\n",
    "    print \"Inside Finally Block\""
   ]
  },
  {
   "cell_type": "markdown",
   "metadata": {},
   "source": [
    "### Example 2:"
   ]
  },
  {
   "cell_type": "code",
   "execution_count": 2,
   "metadata": {},
   "outputs": [
    {
     "name": "stdout",
     "output_type": "stream",
     "text": [
      "No such file found. Please try again!\n",
      "Inside finally block\n"
     ]
    }
   ],
   "source": [
    "# Accesing a File that doesn't exist\n",
    "try:\n",
    "    f = open('test1.txt')\n",
    "\n",
    "except IOError as e:\n",
    "    print \"No such file found. Please try again!\"\n",
    "    \n",
    "except Exception as e:\n",
    "    print e\n",
    "\n",
    "else:\n",
    "    print f.read()\n",
    "    f.close()\n",
    "\n",
    "finally:\n",
    "    print \"Inside finally block\""
   ]
  },
  {
   "cell_type": "markdown",
   "metadata": {},
   "source": [
    "### How does it work?\n",
    "\n",
    "The error handling is done through the use of exceptions that are caught in try\n",
    "blocks and handled in except blocks. If an error is encountered, a try block\n",
    "code execution is stopped and transferred down to the except block. \n",
    "\n",
    "In addition to using an except block after the try block, you can also use the\n",
    "finally block. \n",
    "\n",
    "The code in the finally block will be executed regardless of whether an exception\n",
    "occurs."
   ]
  },
  {
   "cell_type": "markdown",
   "metadata": {},
   "source": [
    "### Manually Raising an Exception"
   ]
  },
  {
   "cell_type": "code",
   "execution_count": 3,
   "metadata": {},
   "outputs": [
    {
     "name": "stdout",
     "output_type": "stream",
     "text": [
      "Manually raising an exception\n",
      "Developer intentionally raised an exception\n",
      "Inside finally block\n"
     ]
    },
    {
     "ename": "NameError",
     "evalue": "Manutd",
     "output_type": "error",
     "traceback": [
      "\u001b[0;31m---------------------------------------------------------------------------\u001b[0m",
      "\u001b[0;31mNameError\u001b[0m                                 Traceback (most recent call last)",
      "\u001b[0;32m<ipython-input-3-fd919c4bcf85>\u001b[0m in \u001b[0;36m<module>\u001b[0;34m()\u001b[0m\n\u001b[1;32m      1\u001b[0m \u001b[0;32mtry\u001b[0m\u001b[0;34m:\u001b[0m\u001b[0;34m\u001b[0m\u001b[0m\n\u001b[1;32m      2\u001b[0m     \u001b[0;32mprint\u001b[0m \u001b[0;34m\"Manually raising an exception\"\u001b[0m\u001b[0;34m\u001b[0m\u001b[0m\n\u001b[0;32m----> 3\u001b[0;31m     \u001b[0;32mraise\u001b[0m \u001b[0mNameError\u001b[0m\u001b[0;34m(\u001b[0m\u001b[0;34m'Manutd'\u001b[0m\u001b[0;34m)\u001b[0m\u001b[0;34m\u001b[0m\u001b[0m\n\u001b[0m\u001b[1;32m      4\u001b[0m \u001b[0;32mexcept\u001b[0m \u001b[0mNameError\u001b[0m \u001b[0;32mas\u001b[0m \u001b[0me\u001b[0m\u001b[0;34m:\u001b[0m\u001b[0;34m\u001b[0m\u001b[0m\n\u001b[1;32m      5\u001b[0m     \u001b[0;32mprint\u001b[0m \u001b[0;34m\"Developer intentionally raised an exception\"\u001b[0m\u001b[0;34m\u001b[0m\u001b[0m\n",
      "\u001b[0;31mNameError\u001b[0m: Manutd"
     ]
    }
   ],
   "source": [
    "try:\n",
    "    print \"Manually raising an exception\"\n",
    "    raise NameError('Manutd')\n",
    "except NameError as e:\n",
    "    print \"Developer intentionally raised an exception\"\n",
    "    raise\n",
    "else:\n",
    "    print \"No Exception was raised\"\n",
    "finally:\n",
    "    print \"Inside finally block\""
   ]
  },
  {
   "cell_type": "markdown",
   "metadata": {},
   "source": [
    "### User Defined Exceptions"
   ]
  },
  {
   "cell_type": "code",
   "execution_count": 4,
   "metadata": {
    "collapsed": true
   },
   "outputs": [],
   "source": [
    "class CustomError(Exception):\n",
    "    def __init__(self,value):\n",
    "        self.value = value\n",
    "    def __str__(self):\n",
    "        return repr(self.value)"
   ]
  },
  {
   "cell_type": "code",
   "execution_count": 15,
   "metadata": {},
   "outputs": [
    {
     "name": "stdout",
     "output_type": "stream",
     "text": [
      "Manually raising an exception\n",
      "Developer intentionally raised an exception\n",
      "Inside finally block\n"
     ]
    },
    {
     "ename": "CustomError",
     "evalue": "'Raising a Custom Error!!'",
     "output_type": "error",
     "traceback": [
      "\u001b[0;31m---------------------------------------------------------------------------\u001b[0m",
      "\u001b[0;31mCustomError\u001b[0m                               Traceback (most recent call last)",
      "\u001b[0;32m<ipython-input-15-4ce4e0a09aec>\u001b[0m in \u001b[0;36m<module>\u001b[0;34m()\u001b[0m\n\u001b[1;32m      1\u001b[0m \u001b[0;32mtry\u001b[0m\u001b[0;34m:\u001b[0m\u001b[0;34m\u001b[0m\u001b[0m\n\u001b[1;32m      2\u001b[0m     \u001b[0;32mprint\u001b[0m \u001b[0;34m\"Manually raising an exception\"\u001b[0m\u001b[0;34m\u001b[0m\u001b[0m\n\u001b[0;32m----> 3\u001b[0;31m     \u001b[0;32mraise\u001b[0m \u001b[0mCustomError\u001b[0m\u001b[0;34m(\u001b[0m\u001b[0;34m'Raising a Custom Error!!'\u001b[0m\u001b[0;34m)\u001b[0m\u001b[0;34m\u001b[0m\u001b[0m\n\u001b[0m\u001b[1;32m      4\u001b[0m \u001b[0;32mexcept\u001b[0m \u001b[0mCustomError\u001b[0m \u001b[0;32mas\u001b[0m \u001b[0me\u001b[0m\u001b[0;34m:\u001b[0m\u001b[0;34m\u001b[0m\u001b[0m\n\u001b[1;32m      5\u001b[0m     \u001b[0;32mprint\u001b[0m \u001b[0;34m\"Developer intentionally raised an exception\"\u001b[0m\u001b[0;34m\u001b[0m\u001b[0m\n",
      "\u001b[0;31mCustomError\u001b[0m: 'Raising a Custom Error!!'"
     ]
    }
   ],
   "source": [
    "try:\n",
    "    print \"Manually raising an exception\"\n",
    "    raise CustomError('Raising a Custom Error!!')\n",
    "except CustomError as e:\n",
    "    print \"Developer intentionally raised an exception\"\n",
    "    raise\n",
    "else:\n",
    "    print \"No Exception was raised\"\n",
    "finally:\n",
    "    print \"Inside finally block\""
   ]
  },
  {
   "cell_type": "code",
   "execution_count": null,
   "metadata": {
    "collapsed": true
   },
   "outputs": [],
   "source": []
  },
  {
   "cell_type": "markdown",
   "metadata": {},
   "source": [
    "### Creating a user defined exception that deals with multiple errors"
   ]
  },
  {
   "cell_type": "code",
   "execution_count": 6,
   "metadata": {
    "collapsed": true
   },
   "outputs": [],
   "source": [
    "class Error(Exception):\n",
    "    \"\"\"Base class for exceptions in this module.\"\"\"\n",
    "    pass\n",
    "\n",
    "class InputError(Error):\n",
    "    \"\"\"Exception raised for errors in the input.\n",
    "\n",
    "    Attributes:\n",
    "        expr -- input expression in which the error occurred\n",
    "        msg  -- explanation of the error\n",
    "    \"\"\"\n",
    "\n",
    "    def __init__(self, expr, msg):\n",
    "        self.expr = expr\n",
    "        self.msg = msg\n",
    "\n",
    "class TransitionError(Error):\n",
    "    \"\"\"Raised when an operation attempts a state transition that's not\n",
    "    allowed.\n",
    "\n",
    "    Attributes:\n",
    "        prev -- state at beginning of transition\n",
    "        next -- attempted new state\n",
    "        msg  -- explanation of why the specific transition is not allowed\n",
    "    \"\"\"\n",
    "\n",
    "    def __init__(self, prev, next, msg):\n",
    "        self.prev = prev\n",
    "        self.next = next\n",
    "        self.msg = msg"
   ]
  },
  {
   "cell_type": "code",
   "execution_count": 7,
   "metadata": {},
   "outputs": [
    {
     "name": "stdout",
     "output_type": "stream",
     "text": [
      "You didn't anything. Error:  Random Error\n",
      "Inside Finally Block\n"
     ]
    },
    {
     "ename": "InputError",
     "evalue": "",
     "output_type": "error",
     "traceback": [
      "\u001b[0;31m---------------------------------------------------------------------------\u001b[0m",
      "\u001b[0;31mInputError\u001b[0m                                Traceback (most recent call last)",
      "\u001b[0;32m<ipython-input-7-d472331e91f8>\u001b[0m in \u001b[0;36m<module>\u001b[0;34m()\u001b[0m\n\u001b[1;32m      2\u001b[0m \u001b[0mresult\u001b[0m \u001b[0;34m=\u001b[0m \u001b[0;36m0\u001b[0m\u001b[0;34m\u001b[0m\u001b[0m\n\u001b[1;32m      3\u001b[0m \u001b[0;32mtry\u001b[0m\u001b[0;34m:\u001b[0m\u001b[0;34m\u001b[0m\u001b[0m\n\u001b[0;32m----> 4\u001b[0;31m     \u001b[0;32mraise\u001b[0m \u001b[0mInputError\u001b[0m\u001b[0;34m(\u001b[0m\u001b[0;34m'No input given'\u001b[0m\u001b[0;34m,\u001b[0m\u001b[0;34m'Random Error'\u001b[0m\u001b[0;34m)\u001b[0m\u001b[0;34m\u001b[0m\u001b[0m\n\u001b[0m\u001b[1;32m      5\u001b[0m     \u001b[0ma\u001b[0m \u001b[0;34m=\u001b[0m \u001b[0mint\u001b[0m\u001b[0;34m(\u001b[0m\u001b[0mraw_input\u001b[0m\u001b[0;34m(\u001b[0m\u001b[0;34m'Enter first number'\u001b[0m\u001b[0;34m)\u001b[0m\u001b[0;34m)\u001b[0m\u001b[0;34m\u001b[0m\u001b[0m\n\u001b[1;32m      6\u001b[0m     \u001b[0mb\u001b[0m \u001b[0;34m=\u001b[0m \u001b[0mint\u001b[0m\u001b[0;34m(\u001b[0m\u001b[0mraw_input\u001b[0m\u001b[0;34m(\u001b[0m\u001b[0;34m'Enter second number'\u001b[0m\u001b[0;34m)\u001b[0m\u001b[0;34m)\u001b[0m\u001b[0;34m\u001b[0m\u001b[0m\n",
      "\u001b[0;31mInputError\u001b[0m: "
     ]
    }
   ],
   "source": [
    "# Division of two numbers\n",
    "result = 0\n",
    "try:\n",
    "    raise InputError('No input given','Random Error')\n",
    "    a = int(raw_input('Enter first number'))\n",
    "    b = int(raw_input('Enter second number'))\n",
    "    result = a/b;\n",
    "    \n",
    "except InputError as e:\n",
    "    print \"You didn't anything. Error: \", e.msg\n",
    "    raise\n",
    "except ValueError as e:\n",
    "    print \"You didn't enter a number. Error: \", e\n",
    "\n",
    "except ZeroDivisionError as e:\n",
    "    print \"Cannot divide any number by 0\"\n",
    "    \n",
    "except Exception as e:        print \"Inside finally block\"\n",
    "\n",
    "    print e\n",
    "else:\n",
    "    print \"Quotient is {}\".format(result)\n",
    "\n",
    "finally:\n",
    "    print \"Inside Finally Block\""
   ]
  },
  {
   "cell_type": "markdown",
   "metadata": {},
   "source": [
    "## VVIMP\n",
    "\n",
    "A finally clause is always executed before leaving the try statement, whether an exception has occurred or not. When an exception has occurred in the try clause and has not been handled by an except clause (or it has occurred in an except or else clause), it is re-raised after the finally clause has been executed. The finally clause is also executed “on the way out” when any other clause of the try statement is left via a break, continue or return statement.\n"
   ]
  },
  {
   "cell_type": "code",
   "execution_count": 8,
   "metadata": {
    "collapsed": true
   },
   "outputs": [],
   "source": [
    "def divide(x,y):\n",
    "    result = 0;\n",
    "    try:\n",
    "        result =  x/y\n",
    "    except ZeroDivisionError as e:\n",
    "        print \"Cannot divide any number by 0\"\n",
    "    else:\n",
    "        return result\n",
    "    finally:\n",
    "        print \"Inside finally block\""
   ]
  },
  {
   "cell_type": "code",
   "execution_count": 9,
   "metadata": {},
   "outputs": [
    {
     "name": "stdout",
     "output_type": "stream",
     "text": [
      "Inside finally block\n"
     ]
    },
    {
     "data": {
      "text/plain": [
       "2"
      ]
     },
     "execution_count": 9,
     "metadata": {},
     "output_type": "execute_result"
    }
   ],
   "source": [
    "divide(10,5)"
   ]
  },
  {
   "cell_type": "code",
   "execution_count": 10,
   "metadata": {},
   "outputs": [
    {
     "name": "stdout",
     "output_type": "stream",
     "text": [
      "Inside finally block\n"
     ]
    },
    {
     "ename": "TypeError",
     "evalue": "unsupported operand type(s) for /: 'str' and 'str'",
     "output_type": "error",
     "traceback": [
      "\u001b[0;31m---------------------------------------------------------------------------\u001b[0m",
      "\u001b[0;31mTypeError\u001b[0m                                 Traceback (most recent call last)",
      "\u001b[0;32m<ipython-input-10-9b5512d1756a>\u001b[0m in \u001b[0;36m<module>\u001b[0;34m()\u001b[0m\n\u001b[0;32m----> 1\u001b[0;31m \u001b[0mdivide\u001b[0m\u001b[0;34m(\u001b[0m\u001b[0;34m\"10\"\u001b[0m\u001b[0;34m,\u001b[0m\u001b[0;34m\"5\"\u001b[0m\u001b[0;34m)\u001b[0m\u001b[0;34m\u001b[0m\u001b[0m\n\u001b[0m",
      "\u001b[0;32m<ipython-input-8-6940aebca87a>\u001b[0m in \u001b[0;36mdivide\u001b[0;34m(x, y)\u001b[0m\n\u001b[1;32m      2\u001b[0m     \u001b[0mresult\u001b[0m \u001b[0;34m=\u001b[0m \u001b[0;36m0\u001b[0m\u001b[0;34m;\u001b[0m\u001b[0;34m\u001b[0m\u001b[0m\n\u001b[1;32m      3\u001b[0m     \u001b[0;32mtry\u001b[0m\u001b[0;34m:\u001b[0m\u001b[0;34m\u001b[0m\u001b[0m\n\u001b[0;32m----> 4\u001b[0;31m         \u001b[0mresult\u001b[0m \u001b[0;34m=\u001b[0m  \u001b[0mx\u001b[0m\u001b[0;34m/\u001b[0m\u001b[0my\u001b[0m\u001b[0;34m\u001b[0m\u001b[0m\n\u001b[0m\u001b[1;32m      5\u001b[0m     \u001b[0;32mexcept\u001b[0m \u001b[0mZeroDivisionError\u001b[0m \u001b[0;32mas\u001b[0m \u001b[0me\u001b[0m\u001b[0;34m:\u001b[0m\u001b[0;34m\u001b[0m\u001b[0m\n\u001b[1;32m      6\u001b[0m         \u001b[0;32mprint\u001b[0m \u001b[0;34m\"Cannot divide any number by 0\"\u001b[0m\u001b[0;34m\u001b[0m\u001b[0m\n",
      "\u001b[0;31mTypeError\u001b[0m: unsupported operand type(s) for /: 'str' and 'str'"
     ]
    }
   ],
   "source": [
    "divide(\"10\",\"5\")"
   ]
  },
  {
   "cell_type": "markdown",
   "metadata": {},
   "source": [
    "### Inference from the above example"
   ]
  },
  {
   "cell_type": "markdown",
   "metadata": {},
   "source": [
    "As you can see, the finally clause is executed in any event. The TypeError raised by dividing two strings is not handled by the except clause and therefore re-raised after the finally clause has been executed.\n",
    "\n",
    "In real world applications, the finally clause is useful for releasing external resources (such as files or network connections), regardless of whether the use of the resource was successful"
   ]
  },
  {
   "cell_type": "code",
   "execution_count": null,
   "metadata": {
    "collapsed": true
   },
   "outputs": [],
   "source": []
  }
 ],
 "metadata": {
  "kernelspec": {
   "display_name": "Python 2",
   "language": "python",
   "name": "python2"
  },
  "language_info": {
   "codemirror_mode": {
    "name": "ipython",
    "version": 2
   },
   "file_extension": ".py",
   "mimetype": "text/x-python",
   "name": "python",
   "nbconvert_exporter": "python",
   "pygments_lexer": "ipython2",
   "version": "2.7.13"
  }
 },
 "nbformat": 4,
 "nbformat_minor": 2
}
